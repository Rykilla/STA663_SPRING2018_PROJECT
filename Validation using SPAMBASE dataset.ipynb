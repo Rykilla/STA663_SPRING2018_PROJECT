{
 "cells": [
  {
   "cell_type": "code",
   "execution_count": 1,
   "metadata": {},
   "outputs": [],
   "source": [
    "import numpy as np\n",
    "import pandas as pd"
   ]
  },
  {
   "cell_type": "markdown",
   "metadata": {},
   "source": [
    "### Reading Spam dataset"
   ]
  },
  {
   "cell_type": "code",
   "execution_count": 10,
   "metadata": {},
   "outputs": [],
   "source": [
    "spam = pd.read_table(\"./spam_data/spambase.data\", \n",
    "                          sep=\",\", header=None)"
   ]
  },
  {
   "cell_type": "code",
   "execution_count": 15,
   "metadata": {},
   "outputs": [],
   "source": [
    "spam_data = spam.iloc[:,0:57]\n",
    "spam_true_labels = spam.iloc[:,57]"
   ]
  },
  {
   "cell_type": "code",
   "execution_count": 21,
   "metadata": {},
   "outputs": [],
   "source": [
    "spam_numpy_data = spam_data.values\n",
    "spam_numpy_true_labels = spam_true_labels.values"
   ]
  },
  {
   "cell_type": "code",
   "execution_count": 22,
   "metadata": {},
   "outputs": [
    {
     "data": {
      "text/plain": [
       "(numpy.ndarray, numpy.ndarray)"
      ]
     },
     "execution_count": 22,
     "metadata": {},
     "output_type": "execute_result"
    }
   ],
   "source": [
    "type(spam_numpy_data), type(spam_numpy_true_labels)"
   ]
  },
  {
   "cell_type": "code",
   "execution_count": 24,
   "metadata": {},
   "outputs": [
    {
     "data": {
      "text/plain": [
       "((4601, 57), (4601,))"
      ]
     },
     "execution_count": 24,
     "metadata": {},
     "output_type": "execute_result"
    }
   ],
   "source": [
    "spam_numpy_data.shape, spam_numpy_true_labels.shape"
   ]
  },
  {
   "cell_type": "markdown",
   "metadata": {},
   "source": [
    "### K-means++ Algorithm (adapted from previous work)"
   ]
  },
  {
   "cell_type": "code",
   "execution_count": 25,
   "metadata": {},
   "outputs": [],
   "source": [
    "def distance(xs, centroid):\n",
    "    \"\"\"Computes matrix of squared distance from each point to each centroid.\n",
    "    \n",
    "    Parameters:\n",
    "    -----------\n",
    "    xs : ndarray of n points in d dimensional Euclidean space (nxd)\n",
    "    centroid: ndarray of k centroids in d dimensional Euclidean space (kxd)\n",
    "    \n",
    "    Returns:\n",
    "    --------\n",
    "    distance: matrix of squared distances (nxk)\n",
    "    \"\"\"\n",
    "\n",
    "    distance = np.sum((xs[:,None,:] - centroid)**2, axis=-1)\n",
    "    return distance"
   ]
  },
  {
   "cell_type": "code",
   "execution_count": 26,
   "metadata": {},
   "outputs": [],
   "source": [
    "def cost(d):\n",
    "    \"\"\"Computes the cost of a set of points with respect to a collection of centroids\n",
    "    \n",
    "    Parameters:\n",
    "    -----------\n",
    "    d : matrix of squared distances (nxk); likely returned from distance() function\n",
    "    \n",
    "    Returns:\n",
    "    --------\n",
    "    cost: cost with respect to centroids\n",
    "    \"\"\"\n",
    "    #calculate distance to the nearest centroid for each point\n",
    "    min_dist = np.min(d, axis = 1)\n",
    "    \n",
    "    #compute cost\n",
    "    cost = np.sum(min_dist)\n",
    "    return cost"
   ]
  },
  {
   "cell_type": "code",
   "execution_count": 27,
   "metadata": {},
   "outputs": [],
   "source": [
    "def centroid_weights(d):\n",
    "    \"\"\"Computes weights as defined in step 7 of the k-means|| algorithm\n",
    "        \n",
    "    Parameters:\n",
    "    -----------\n",
    "    d : matrix of squared distances (nxk); likely returned from distance() function\n",
    "    \n",
    "    Returns:\n",
    "    --------\n",
    "    w_x: ndarray of weights applied to centroids (kx1)\n",
    "    \"\"\"\n",
    "    #identify closest centroid to each point\n",
    "    c_close = np.zeros(d.shape)\n",
    "    c_close[np.range(d.shape[0]), np.argmin(d, axis = 1)] = 1\n",
    "    \n",
    "    #compute the weights\n",
    "    w_x = np.sum(c_close, axis = 0)\n",
    "    return w_x"
   ]
  },
  {
   "cell_type": "code",
   "execution_count": 28,
   "metadata": {},
   "outputs": [],
   "source": [
    "def k_means_pp(xs, k, seed=None):\n",
    "    \"\"\"\n",
    "    Implements the K_means++ Initialization algorithm\n",
    "    \n",
    "    Parameters:\n",
    "    -----------\n",
    "    xs: input dataset\n",
    "    k: the number of output clusters\n",
    "    seed: an optional random seed\n",
    "    \n",
    "    Returns:\n",
    "    --------\n",
    "    C: the reclustered k centroids used to initialize the k-means algorithm\n",
    "    \"\"\"\n",
    "    #initialization\n",
    "    np.random.seed(seed)\n",
    "    C = xs[np.random.choice(xs.shape[0],1),:]\n",
    "    loop = 0\n",
    "    \n",
    "    while len(C)<k:\n",
    "        \n",
    "        if (loop % 10 == 0):\n",
    "            print(\"The current loop is:\", loop)\n",
    "        \n",
    "        dist = distance(xs,C)\n",
    "        cst = cost(dist)\n",
    "        \n",
    "        probs_x = np.min(dist, axis = 1)/cst\n",
    "        C_new = xs[np.random.choice(xs.shape[0],1,p=probs_x),:]\n",
    "        \n",
    "        C = np.vstack((C,C_new))\n",
    "        \n",
    "        loop += 1\n",
    "        \n",
    "    return C"
   ]
  },
  {
   "cell_type": "code",
   "execution_count": 29,
   "metadata": {},
   "outputs": [],
   "source": [
    "def k_means(X, k, centroids):\n",
    "    \"\"\"\n",
    "        This function will separate X into k clusters using the classic k-means\n",
    "        algorithm.\n",
    "    \"\"\"\n",
    "    ## parameters\n",
    "    max_iter = 10000\n",
    "    step = 0\n",
    "    #n, p = X.shape\n",
    "    \n",
    "    ## run the algorithm\n",
    "    while step < max_iter:\n",
    "        ### sort the data in terms of clusters\n",
    "        dist = distance(X, centroids)\n",
    "        cluster_indices = np.argmin(dist, axis=1)\n",
    "        \n",
    "        ### update centroids\n",
    "        update_centroids = np.zeros(centroids.shape)\n",
    "        for i in range(k):\n",
    "            update_centroids[i,:] = np.mean(X[cluster_indices==i,:], axis=0)\n",
    "        \n",
    "        ### check conditions\n",
    "        if np.array_equal(update_centroids, centroids):\n",
    "            break\n",
    "        else:\n",
    "            centroids = update_centroids\n",
    "            \n",
    "            if (step % 5 == 0):\n",
    "                print(\"We are currently at {} step\".format(step))\n",
    "            \n",
    "            step += 1\n",
    "    \n",
    "    total_dist = distance(X, centroids)\n",
    "    total_cost = cost(total_dist)\n",
    "            \n",
    "    return {\"Centroids\": centroids,\n",
    "            \"Cluster Indices\": cluster_indices,\n",
    "            \"Number of Iterations\": step,\n",
    "            \"Total Cost\": total_cost}"
   ]
  },
  {
   "cell_type": "code",
   "execution_count": 30,
   "metadata": {},
   "outputs": [
    {
     "name": "stdout",
     "output_type": "stream",
     "text": [
      "The current loop is: 0\n",
      "The current loop is: 10\n",
      "We are currently at 0 step\n",
      "We are currently at 5 step\n",
      "We are currently at 10 step\n",
      "We are currently at 15 step\n",
      "We are currently at 20 step\n",
      "CPU times: user 808 ms, sys: 200 ms, total: 1.01 s\n",
      "Wall time: 1.01 s\n"
     ]
    }
   ],
   "source": [
    "%%time\n",
    "\n",
    "initial_centroids_pp = k_means_pp(spam_numpy_data, k=20, seed=2018)\n",
    "k_means_output = k_means(spam_numpy_data, k=20, centroids=initial_centroids_pp)"
   ]
  },
  {
   "cell_type": "markdown",
   "metadata": {},
   "source": [
    "#### Ignore for now this performance measure (because true labels have only 0's and 1's, whereas predicted labels are related to the chosen k value)"
   ]
  },
  {
   "cell_type": "code",
   "execution_count": 35,
   "metadata": {},
   "outputs": [
    {
     "data": {
      "text/plain": [
       "0.13542936092919955"
      ]
     },
     "execution_count": 35,
     "metadata": {},
     "output_type": "execute_result"
    }
   ],
   "source": [
    "from sklearn import metrics\n",
    "spam_numpy_predicted_labels = k_means_output[\"Cluster Indices\"]\n",
    "metrics.adjusted_rand_score(spam_numpy_true_labels, spam_numpy_predicted_labels)"
   ]
  },
  {
   "cell_type": "code",
   "execution_count": 34,
   "metadata": {},
   "outputs": [
    {
     "data": {
      "text/plain": [
       "array([15, 12, 16, ..., 19, 19,  0])"
      ]
     },
     "execution_count": 34,
     "metadata": {},
     "output_type": "execute_result"
    }
   ],
   "source": [
    "spam_numpy_predicted_labels"
   ]
  },
  {
   "cell_type": "code",
   "execution_count": 33,
   "metadata": {},
   "outputs": [
    {
     "data": {
      "text/plain": [
       "25315637.30823114"
      ]
     },
     "execution_count": 33,
     "metadata": {},
     "output_type": "execute_result"
    }
   ],
   "source": [
    "k_means_output[\"Total Cost\"]"
   ]
  },
  {
   "cell_type": "code",
   "execution_count": null,
   "metadata": {},
   "outputs": [],
   "source": []
  },
  {
   "cell_type": "code",
   "execution_count": null,
   "metadata": {},
   "outputs": [],
   "source": []
  }
 ],
 "metadata": {
  "kernelspec": {
   "display_name": "Python 3",
   "language": "python",
   "name": "python3"
  },
  "language_info": {
   "codemirror_mode": {
    "name": "ipython",
    "version": 3
   },
   "file_extension": ".py",
   "mimetype": "text/x-python",
   "name": "python",
   "nbconvert_exporter": "python",
   "pygments_lexer": "ipython3",
   "version": "3.6.5"
  }
 },
 "nbformat": 4,
 "nbformat_minor": 2
}
