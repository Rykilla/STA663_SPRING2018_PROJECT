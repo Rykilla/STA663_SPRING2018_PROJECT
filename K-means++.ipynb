{
 "cells": [
  {
   "cell_type": "markdown",
   "metadata": {},
   "source": [
    "### K-means++ Algorithm Reproduction"
   ]
  },
  {
   "cell_type": "markdown",
   "metadata": {},
   "source": [
    "#### k-means++ initialization"
   ]
  },
  {
   "cell_type": "code",
   "execution_count": 19,
   "metadata": {},
   "outputs": [],
   "source": [
    "import timeit\n",
    "import numpy as np\n",
    "import scipy.linalg as la\n",
    "from numba import jit"
   ]
  },
  {
   "cell_type": "code",
   "execution_count": 20,
   "metadata": {},
   "outputs": [],
   "source": [
    "# helper functions\n",
    "def min_distSQ(x, C):\n",
    "    \"\"\"\n",
    "        x: vector input\n",
    "        C: list input\n",
    "    \"\"\"\n",
    "    distSQ = np.zeros(len(C))\n",
    "    for c_index in range(len(C)):\n",
    "        distSQ[c_index] = np.sum((x - C[c_index])**2)\n",
    "    return min(distSQ)"
   ]
  },
  {
   "cell_type": "code",
   "execution_count": 21,
   "metadata": {},
   "outputs": [],
   "source": [
    "def k_means_pp(X, k):\n",
    "    \"\"\"\n",
    "    Implements the K_means++ Initialization algorithm\n",
    "    \n",
    "    Parameters:\n",
    "    -----------\n",
    "    X: input dataset\n",
    "    k: the number of output clusters\n",
    "    \n",
    "    Returns:\n",
    "    --------\n",
    "    C: the reclustered k centroids used to initialize the k-means algorithm\n",
    "    \"\"\"\n",
    "    init = X[np.random.randint(low=0, high=X.shape[0], size=1)]\n",
    "    C = [init]\n",
    "    loop = 0\n",
    "    \n",
    "    while len(C)<k:\n",
    "        \n",
    "        if (loop % 10 == 0):\n",
    "            print(\"The current loop is:\", loop)\n",
    "        \n",
    "        cost = 1e-16\n",
    "        d2 = []\n",
    "        for row_index in range(X.shape[0]):\n",
    "            x = X[row_index,]\n",
    "            dist = min_distSQ(x, C)\n",
    "            d2.append(dist)\n",
    "            cost += dist\n",
    "        prob = d2/cost\n",
    "        new_c_index = np.random.choice(np.arange(X.shape[0]), size=1, p=prob)\n",
    "        new_c = X[new_c_index,]\n",
    "        C.append(new_c)\n",
    "        \n",
    "        loop += 1\n",
    "        \n",
    "    return C"
   ]
  },
  {
   "cell_type": "code",
   "execution_count": null,
   "metadata": {},
   "outputs": [],
   "source": [
    "%%file k_means_PlusPlus.cpp\n"
   ]
  },
  {
   "cell_type": "markdown",
   "metadata": {},
   "source": [
    "#### k-means Algorithm"
   ]
  },
  {
   "cell_type": "code",
   "execution_count": null,
   "metadata": {},
   "outputs": [],
   "source": [
    "# helper functions\n",
    "def distance(X, C):\n",
    "    \"\"\"\n",
    "        This function computes the distance between all the points in X and all the \n",
    "        centroids in C.\n",
    "    \"\"\"\n",
    "    return np.sum((X[:, np.newaxis, :] - C)**2, axis=2)"
   ]
  },
  {
   "cell_type": "code",
   "execution_count": null,
   "metadata": {},
   "outputs": [],
   "source": [
    "# k-means algorithm\n",
    "def k_means(X, k):\n",
    "    \"\"\"\n",
    "        This function will separate X into k clusters using the classic k-means\n",
    "        algorithm.\n",
    "    \"\"\"\n",
    "    ## parameters\n",
    "    max_iter = 1000\n",
    "    step = 0\n",
    "    n, p = X.shape\n",
    "    \n",
    "    ## initialize the centroids\n",
    "    initial_centroid_indices = np.random.choice(n, k)\n",
    "    centroids = X[initial_centroid_indices,:] # (k,p)-dimension\n",
    "    \n",
    "    ## run the algorithm\n",
    "    while step < max_iter:\n",
    "        ### sort the data in terms of clusters\n",
    "        dist = distance(X, centroids)\n",
    "        cluster_indices = np.argmin(dist, axis=1)\n",
    "        \n",
    "        ### update centroids\n",
    "        update_centroids = np.zeros(centroids.shape)\n",
    "        for i in range(k):\n",
    "            update_centroids[i,:] = np.mean(X[cluster_indices==i,:], axis=0)\n",
    "        \n",
    "        ### check conditions\n",
    "        if np.array_equal(update_centroids, centroids):\n",
    "            break\n",
    "        else:\n",
    "            centroids = update_centroids\n",
    "            \n",
    "            if (step % 5 == 0):\n",
    "                print(\"We are currently at {} step\".format(step))\n",
    "            \n",
    "            step += 1\n",
    "    \n",
    "    total_dist = distance(X, centroids)\n",
    "            \n",
    "    return {\"Centroids\": centroids,\n",
    "            \"Cluster Indices\": cluster_indices,\n",
    "            \"Number of Iterations\": step}"
   ]
  },
  {
   "cell_type": "code",
   "execution_count": null,
   "metadata": {},
   "outputs": [],
   "source": []
  },
  {
   "cell_type": "code",
   "execution_count": 22,
   "metadata": {},
   "outputs": [],
   "source": [
    "# R = 1\n",
    "np.random.seed(2018)\n",
    "N = 10000\n",
    "R = 1\n",
    "cov = R * np.eye(15) \n",
    "GaussMixture1 = np.random.multivariate_normal(np.zeros(15), cov, N)"
   ]
  },
  {
   "cell_type": "code",
   "execution_count": 23,
   "metadata": {},
   "outputs": [
    {
     "name": "stdout",
     "output_type": "stream",
     "text": [
      "The current loop is: 0\n",
      "The current loop is: 10\n",
      "The current loop is: 20\n",
      "The current loop is: 30\n",
      "The current loop is: 40\n",
      "CPU times: user 1min 33s, sys: 646 ms, total: 1min 34s\n",
      "Wall time: 1min 36s\n"
     ]
    }
   ],
   "source": [
    "%%time\n",
    "\n",
    "k = 50\n",
    "C_R1=k_means_pp(GaussMixture1, k)\n",
    "C_R1"
   ]
  },
  {
   "cell_type": "code",
   "execution_count": 24,
   "metadata": {},
   "outputs": [
    {
     "name": "stdout",
     "output_type": "stream",
     "text": [
      "The current loop is: 0\n",
      "The current loop is: 10\n",
      "The current loop is: 20\n",
      "The current loop is: 30\n",
      "The current loop is: 40\n",
      " \n",
      "*** Profile stats marshalled to file 'work.prof'. \n"
     ]
    }
   ],
   "source": [
    "%prun -q -D work.prof k_means_pp(GaussMixture1, k)"
   ]
  },
  {
   "cell_type": "code",
   "execution_count": 25,
   "metadata": {},
   "outputs": [
    {
     "name": "stdout",
     "output_type": "stream",
     "text": [
      "Sat Apr  7 18:25:34 2018    work.prof\n",
      "\n",
      "         51941119 function calls in 115.793 seconds\n",
      "\n",
      "   Random listing order was used\n",
      "\n",
      "   ncalls  tottime  percall  cumtime  percall filename:lineno(function)\n",
      "   490049    0.081    0.000    0.081    0.000 {method 'append' of 'list' objects}\n",
      "       98    0.000    0.000    0.000    0.000 {method 'get' of 'dict' objects}\n",
      "        1    0.000    0.000  115.793  115.793 {built-in method builtins.exec}\n",
      " 12250020    2.994    0.000    2.994    0.000 {built-in method builtins.isinstance}\n",
      "      147    0.000    0.000    0.000    0.000 {built-in method builtins.issubclass}\n",
      "   980050    0.139    0.000    0.139    0.000 {built-in method builtins.len}\n",
      "   490000    2.599    0.000    2.599    0.000 {built-in method builtins.min}\n",
      "        5    0.000    0.000    0.001    0.000 {built-in method builtins.print}\n",
      "       25    0.000    0.000    0.000    0.000 {method 'acquire' of '_thread.lock' objects}\n",
      "       20    0.000    0.000    0.000    0.000 {built-in method posix.getpid}\n",
      "       25    0.000    0.000    0.000    0.000 {method 'append' of 'collections.deque' objects}\n",
      "       25    0.000    0.000    0.000    0.000 /anaconda3/lib/python3.6/threading.py:506(is_set)\n",
      "       25    0.000    0.000    0.000    0.000 /anaconda3/lib/python3.6/threading.py:1062(_wait_for_tstate_lock)\n",
      "       25    0.000    0.000    0.000    0.000 /anaconda3/lib/python3.6/threading.py:1104(is_alive)\n",
      "        1    0.000    0.000    0.000    0.000 {method 'disable' of '_lsprof.Profiler' objects}\n",
      "       25    0.000    0.000    0.000    0.000 /anaconda3/lib/python3.6/site-packages/ipykernel/iostream.py:93(_event_pipe)\n",
      "       25    0.000    0.000    0.000    0.000 /anaconda3/lib/python3.6/site-packages/ipykernel/iostream.py:195(schedule)\n",
      "       20    0.000    0.000    0.000    0.000 /anaconda3/lib/python3.6/site-packages/ipykernel/iostream.py:300(_is_master_process)\n",
      "       20    0.000    0.000    0.000    0.000 /anaconda3/lib/python3.6/site-packages/ipykernel/iostream.py:313(_schedule_flush)\n",
      "       20    0.000    0.000    0.001    0.000 /anaconda3/lib/python3.6/site-packages/ipykernel/iostream.py:366(write)\n",
      "       98    0.000    0.000    0.000    0.000 /anaconda3/lib/python3.6/site-packages/numpy/core/numerictypes.py:631(issubclass_)\n",
      "       49    0.000    0.000    0.001    0.000 /anaconda3/lib/python3.6/site-packages/numpy/core/numerictypes.py:699(issubdtype)\n",
      " 12250000   19.231    0.000   56.739    0.000 /anaconda3/lib/python3.6/site-packages/numpy/core/fromnumeric.py:1778(sum)\n",
      "       49    0.000    0.000    0.001    0.000 /anaconda3/lib/python3.6/site-packages/numpy/core/fromnumeric.py:2456(prod)\n",
      " 12250000    3.456    0.000   34.513    0.000 /anaconda3/lib/python3.6/site-packages/numpy/core/_methods.py:31(_sum)\n",
      "       49    0.000    0.000    0.001    0.000 /anaconda3/lib/python3.6/site-packages/numpy/core/_methods.py:34(_prod)\n",
      "       49    0.001    0.000    0.001    0.000 {built-in method numpy.core.multiarray.arange}\n",
      "   490000    0.787    0.000    0.787    0.000 {built-in method numpy.core.multiarray.zeros}\n",
      " 12250049   31.058    0.000   31.058    0.000 {method 'reduce' of 'numpy.ufunc' objects}\n",
      "       98    0.000    0.000    0.000    0.000 /anaconda3/lib/python3.6/site-packages/numpy/core/getlimits.py:376(__new__)\n",
      "        1    0.000    0.000    0.000    0.000 {method 'randint' of 'mtrand.RandomState' objects}\n",
      "       49    0.009    0.000    0.011    0.000 {method 'choice' of 'mtrand.RandomState' objects}\n",
      "   490000   54.302    0.000  114.565    0.000 <ipython-input-20-3e10ab9815ba>:2(min_distSQ)\n",
      "        1    1.135    1.135  115.793  115.793 <ipython-input-21-179726a295f8>:1(k_means_pp)\n",
      "        1    0.000    0.000  115.793  115.793 <string>:1(<module>)\n",
      "\n",
      "\n"
     ]
    }
   ],
   "source": [
    "import pstats\n",
    "p = pstats.Stats('work.prof')\n",
    "p.print_stats()\n",
    "pass"
   ]
  },
  {
   "cell_type": "code",
   "execution_count": 29,
   "metadata": {},
   "outputs": [
    {
     "name": "stdout",
     "output_type": "stream",
     "text": [
      "Sat Apr  7 18:25:34 2018    work.prof\n",
      "\n",
      "         51941119 function calls in 115.793 seconds\n",
      "\n",
      "   Ordered by: call count\n",
      "   List reduced from 35 to 5 due to restriction <5>\n",
      "\n",
      "   ncalls  tottime  percall  cumtime  percall filename:lineno(function)\n",
      " 12250049   31.058    0.000   31.058    0.000 {method 'reduce' of 'numpy.ufunc' objects}\n",
      " 12250020    2.994    0.000    2.994    0.000 {built-in method builtins.isinstance}\n",
      " 12250000   19.231    0.000   56.739    0.000 /anaconda3/lib/python3.6/site-packages/numpy/core/fromnumeric.py:1778(sum)\n",
      " 12250000    3.456    0.000   34.513    0.000 /anaconda3/lib/python3.6/site-packages/numpy/core/_methods.py:31(_sum)\n",
      "   980050    0.139    0.000    0.139    0.000 {built-in method builtins.len}\n",
      "\n",
      "\n"
     ]
    }
   ],
   "source": [
    "p.sort_stats('ncalls').print_stats(5)\n",
    "pass"
   ]
  },
  {
   "cell_type": "code",
   "execution_count": 41,
   "metadata": {},
   "outputs": [
    {
     "name": "stderr",
     "output_type": "stream",
     "text": [
      "UsageError: Cell magic `%%cython` not found.\n"
     ]
    }
   ],
   "source": [
    "%%cython -a \n",
    "\n",
    "import cython\n",
    "import numpy as np\n",
    "cimport numpy as np\n",
    "from libc.math cimport sqrt, pow\n"
   ]
  },
  {
   "cell_type": "code",
   "execution_count": 39,
   "metadata": {},
   "outputs": [
    {
     "name": "stderr",
     "output_type": "stream",
     "text": [
      "UsageError: Cell magic `%%cython` not found.\n"
     ]
    }
   ],
   "source": [
    "%%cython -a \n",
    "\n",
    "# helper functions\n",
    "def min_distSQ(x, C):\n",
    "    \"\"\"\n",
    "        x: vector input\n",
    "        C: list input\n",
    "    \"\"\"\n",
    "    distSQ = np.zeros(len(C))\n",
    "    for c_index in range(len(C)):\n",
    "        distSQ[c_index] = np.sum((x - C[c_index])**2)\n",
    "    return min(distSQ)"
   ]
  },
  {
   "cell_type": "code",
   "execution_count": 38,
   "metadata": {},
   "outputs": [],
   "source": [
    "def k_means_pp(X, k):\n",
    "    init = X[np.random.randint(low=0, high=X.shape[0], size=1)]\n",
    "    C = [init]\n",
    "    loop = 0\n",
    "    \n",
    "    while len(C)<k:\n",
    "        \n",
    "        if (loop % 10 == 0):\n",
    "            print(\"The current loop is:\", loop)\n",
    "        \n",
    "        cost = 1e-16\n",
    "        d2 = []\n",
    "        for row_index in range(X.shape[0]):\n",
    "            x = X[row_index,]\n",
    "            dist = min_distSQ(x, C)\n",
    "            d2.append(dist)\n",
    "            cost += dist\n",
    "        prob = d2/cost\n",
    "        new_c_index = np.random.choice(np.arange(X.shape[0]), size=1, p=prob)\n",
    "        new_c = X[new_c_index,]\n",
    "        C.append(new_c)\n",
    "        \n",
    "        loop += 1\n",
    "        \n",
    "    return C"
   ]
  },
  {
   "cell_type": "code",
   "execution_count": 36,
   "metadata": {},
   "outputs": [],
   "source": [
    "# R = 1\n",
    "np.random.seed(2018)\n",
    "N = 10000\n",
    "R = 1\n",
    "cov = R * np.eye(15) \n",
    "GaussMixture1 = np.random.multivariate_normal(np.zeros(15), cov, N)"
   ]
  },
  {
   "cell_type": "code",
   "execution_count": 37,
   "metadata": {},
   "outputs": [
    {
     "name": "stdout",
     "output_type": "stream",
     "text": [
      "The current loop is: 0\n",
      "The current loop is: 10\n",
      "The current loop is: 20\n",
      "The current loop is: 30\n",
      "The current loop is: 40\n",
      "CPU times: user 1min 42s, sys: 1.04 s, total: 1min 44s\n",
      "Wall time: 1min 47s\n"
     ]
    }
   ],
   "source": [
    "%%time\n",
    "\n",
    "k = 50\n",
    "C_R1=k_means_pp(GaussMixture1, k)\n",
    "C_R1"
   ]
  },
  {
   "cell_type": "markdown",
   "metadata": {},
   "source": [
    "1. write the algorithm\n",
    "2. optimize (C++/cython)\n",
    "3. Sparks (parallel)\n",
    "4. Show all the intermediate steps when optimizing our functions\n",
    "5. reproduce the results using datasets (synthetic/realistc)"
   ]
  },
  {
   "cell_type": "code",
   "execution_count": null,
   "metadata": {},
   "outputs": [],
   "source": []
  },
  {
   "cell_type": "code",
   "execution_count": null,
   "metadata": {},
   "outputs": [],
   "source": []
  }
 ],
 "metadata": {
  "kernelspec": {
   "display_name": "Python 3",
   "language": "python",
   "name": "python3"
  },
  "language_info": {
   "codemirror_mode": {
    "name": "ipython",
    "version": 3
   },
   "file_extension": ".py",
   "mimetype": "text/x-python",
   "name": "python",
   "nbconvert_exporter": "python",
   "pygments_lexer": "ipython3",
   "version": "3.6.4"
  }
 },
 "nbformat": 4,
 "nbformat_minor": 2
}
