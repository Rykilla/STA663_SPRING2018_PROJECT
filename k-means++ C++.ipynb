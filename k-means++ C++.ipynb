{
 "cells": [
  {
   "cell_type": "markdown",
   "metadata": {},
   "source": [
    "### C++ Environment trials"
   ]
  },
  {
   "cell_type": "code",
   "execution_count": null,
   "metadata": {},
   "outputs": [],
   "source": [
    "%%file trial.cpp\n",
    "\n",
    "#include <iostream>\n",
    "#include <Eigen/Dense>\n",
    "#include <cmath>\n",
    "\n",
    "Eigen::MatrixXd distance(Eigen::MatrixXd xs, Eigen::MatrixXd centroid)\n",
    "{    \n",
    "    /*\n",
    "    Computes matrix of squared distance from each point to each centroid.\n",
    "    \n",
    "    Parameters:\n",
    "    -----------\n",
    "    xs : ndarray of n points in d dimensional Euclidean space (nxd)\n",
    "    centroid: ndarray of k centroids in d dimensional Euclidean space (kxd)\n",
    "    \n",
    "    Returns:\n",
    "    --------\n",
    "    distance: matrix of squared distances (nxk)\n",
    "    */\n",
    "    int n = xs.rows();\n",
    "    int k = centroid.rows();\n",
    "    int d = xs.cols();\n",
    "    Eigen::MatrixXd distance_matrix(n,k);\n",
    "    for (int col_index=0; col_index<k; col_index++)\n",
    "    {\n",
    "        for (int row_index=0; row_index<n; row_index++)\n",
    "        {\n",
    "            double dist = (xs.row(row_index) - centroid.row(col_index)).norm();\n",
    "            distance_matrix(row_index,col_index) = std::pow(dist,2);\n",
    "        }\n",
    "    }\n",
    "    return distance_matrix;\n",
    "}\n",
    "\n",
    "double cost(Eigen::MatrixXd distance_matrix)\n",
    "{\n",
    "    /*\n",
    "    Computes the cost of a set of points with respect to a collection of centroids\n",
    "    \n",
    "    Parameters:\n",
    "    -----------\n",
    "    distance_matrix : matrix of squared distances (nxk); likely returned from distance() function\n",
    "    \n",
    "    Returns:\n",
    "    --------\n",
    "    cost: cost with respect to centroids\n",
    "    */\n",
    "    double cost;\n",
    "    cost = distance_matrix.rowwise().minCoeff().sum();\n",
    "    return cost;\n",
    "}\n",
    "\n",
    "Eigen::VectorXd centroid_weights(Eigen::MatrixXd distance_matrix)\n",
    "{\n",
    "    /*\n",
    "    Computes weights as defined in step 7 of the k-means|| algorithm\n",
    "        \n",
    "    Parameters:\n",
    "    -----------\n",
    "    distance_matrix : matrix of squared distances (nxk); likely returned from distance() function\n",
    "    centroid: ndarray of k centroids in d dimensional Euclidean space (kxd)\n",
    "    \n",
    "    Returns:\n",
    "    --------\n",
    "    w_x: ndarray of weights applied to centroids (kx1)\n",
    "    */\n",
    "    int n = distance_matrix.rows();\n",
    "    int k = distance_matrix.cols();\n",
    "    Eigen::MatrixXd weight_matrix(n,k);\n",
    "    weight_matrix.fill(0);\n",
    "    Eigen::VectorXd w_x(k);\n",
    "    for (int row_index=0; row_index<n; row_index++)\n",
    "    {\n",
    "        double row_minimum_value = distance_matrix.row(row_index).minCoeff();\n",
    "        for (int col_index=0; col_index<k; col_index++)\n",
    "        {\n",
    "            if (distance_matrix(row_index,col_index)==row_minimum_value)\n",
    "            {\n",
    "                weight_matrix(row_index,col_index)=1;\n",
    "            }\n",
    "        }\n",
    "    }\n",
    "    w_x = weight_matrix.colwise().sum();\n",
    "    return w_x;\n",
    "}\n",
    "\n",
    "int main()\n",
    "{\n",
    "    Eigen::MatrixXd A1(3,3);\n",
    "    A1 << 5 ,7, 9,\n",
    "          4, 5, 6,\n",
    "          7, 8, 9;\n",
    "    Eigen::MatrixXd A2 = Eigen::MatrixXd::Identity(3, 3);\n",
    "    Eigen::MatrixXd A3(1,3);\n",
    "    A3 << 5 ,7, 9;\n",
    "    Eigen::MatrixXd A4(3,3);\n",
    "    A4.fill(0);\n",
    "    \n",
    "    \n",
    "    std::cout << centroid_weights(A1,A3) << std::endl;    \n",
    "    \n",
    "}"
   ]
  },
  {
   "cell_type": "code",
   "execution_count": null,
   "metadata": {},
   "outputs": [],
   "source": [
    "%%bash\n",
    "g++ trial.cpp -o trial.exe -std=c++14 -I/usr/include/eigen3"
   ]
  },
  {
   "cell_type": "code",
   "execution_count": null,
   "metadata": {},
   "outputs": [],
   "source": [
    "%%bash\n",
    "./trial.exe"
   ]
  },
  {
   "cell_type": "markdown",
   "metadata": {},
   "source": [
    "### Wrapping (3 helper functions)"
   ]
  },
  {
   "cell_type": "code",
   "execution_count": 1,
   "metadata": {},
   "outputs": [
    {
     "name": "stdout",
     "output_type": "stream",
     "text": [
      "Writing helper_wrap.cpp\n"
     ]
    }
   ],
   "source": [
    "%%file helper_wrap.cpp\n",
    "<%\n",
    "cfg['compiler_args'] = ['-std=c++11']\n",
    "cfg['include_dirs'] = ['../notebooks/eigen3']\n",
    "setup_pybind11(cfg)\n",
    "%>\n",
    "\n",
    "#include <pybind11/pybind11.h>\n",
    "#include <pybind11/numpy.h>\n",
    "#include <pybind11/eigen.h>\n",
    "#include <pybind11/stl.h>\n",
    "#include <pybind11/cast.h>\n",
    "\n",
    "Eigen::MatrixXd distance(Eigen::MatrixXd xs, Eigen::MatrixXd centroid)\n",
    "{    \n",
    "    /*\n",
    "    Computes matrix of squared distance from each point to each centroid.\n",
    "    \n",
    "    Parameters:\n",
    "    -----------\n",
    "    xs : ndarray of n points in d dimensional Euclidean space (nxd)\n",
    "    centroid: ndarray of k centroids in d dimensional Euclidean space (kxd)\n",
    "    \n",
    "    Returns:\n",
    "    --------\n",
    "    distance: matrix of squared distances (nxk)\n",
    "    */\n",
    "    int n = xs.rows();\n",
    "    int k = centroid.rows();\n",
    "    int d = xs.cols();\n",
    "    Eigen::MatrixXd distance_matrix(n,k);\n",
    "    for (int col_index=0; col_index<k; col_index++)\n",
    "    {\n",
    "        for (int row_index=0; row_index<n; row_index++)\n",
    "        {\n",
    "            double dist = (xs.row(row_index) - centroid.row(col_index)).norm();\n",
    "            distance_matrix(row_index,col_index) = std::pow(dist,2);\n",
    "        }\n",
    "    }\n",
    "    return distance_matrix;\n",
    "}\n",
    "\n",
    "double cost(Eigen::MatrixXd distance_matrix)\n",
    "{\n",
    "    /*\n",
    "    Computes the cost of a set of points with respect to a collection of centroids\n",
    "    \n",
    "    Parameters:\n",
    "    -----------\n",
    "    distance_matrix : matrix of squared distances (nxk); likely returned from distance() function\n",
    "    \n",
    "    Returns:\n",
    "    --------\n",
    "    cost: cost with respect to centroids\n",
    "    */\n",
    "    double cost;\n",
    "    cost = distance_matrix.rowwise().minCoeff().sum();\n",
    "    return cost;\n",
    "}\n",
    "\n",
    "Eigen::VectorXd centroid_weights(Eigen::MatrixXd distance_matrix)\n",
    "{\n",
    "    /*\n",
    "    Computes weights as defined in step 7 of the k-means|| algorithm\n",
    "        \n",
    "    Parameters:\n",
    "    -----------\n",
    "    distance_matrix : matrix of squared distances (nxk); likely returned from distance() function\n",
    "    centroid: ndarray of k centroids in d dimensional Euclidean space (kxd)\n",
    "    \n",
    "    Returns:\n",
    "    --------\n",
    "    w_x: ndarray of weights applied to centroids (kx1)\n",
    "    */\n",
    "    int n = distance_matrix.rows();\n",
    "    int k = distance_matrix.cols();\n",
    "    Eigen::MatrixXd weight_matrix(n,k);\n",
    "    weight_matrix.fill(0);\n",
    "    Eigen::VectorXd w_x(k);\n",
    "    for (int row_index=0; row_index<n; row_index++)\n",
    "    {\n",
    "        double row_minimum_value = distance_matrix.row(row_index).minCoeff();\n",
    "        for (int col_index=0; col_index<k; col_index++)\n",
    "        {\n",
    "            if (distance_matrix(row_index,col_index)==row_minimum_value)\n",
    "            {\n",
    "                weight_matrix(row_index,col_index)=1;\n",
    "            }\n",
    "        }\n",
    "    }\n",
    "    w_x = weight_matrix.colwise().sum();\n",
    "    return w_x;\n",
    "}\n",
    "\n",
    "PYBIND11_MODULE(helper_wrap, m) {\n",
    "    m.doc() = \"helpers functions for k-means|| initialization\";\n",
    "    m.def(\"distance\", &distance, \"distance matrix function\");\n",
    "    m.def(\"cost\", &cost, \"cost function\");\n",
    "    m.def(\"centroid_weights\", &centroid_weights, \"distance matrix function\");\n",
    "}\n"
   ]
  },
  {
   "cell_type": "code",
   "execution_count": 2,
   "metadata": {},
   "outputs": [],
   "source": [
    "import cppimport\n",
    "cppimport.force_rebuild()\n",
    "helper_wrap = cppimport.imp(\"helper_wrap\")"
   ]
  },
  {
   "cell_type": "markdown",
   "metadata": {},
   "source": [
    "### Testing the wrapped functions in python"
   ]
  },
  {
   "cell_type": "code",
   "execution_count": 3,
   "metadata": {},
   "outputs": [],
   "source": [
    "import numpy as np\n",
    "\n",
    "xs = np.matrix([\n",
    "    [1,2,3],\n",
    "    [4,5,6],\n",
    "    [7,8,9]\n",
    "])\n",
    "centroid = np.matrix([\n",
    "    [1,1,1],\n",
    "    [2,2,2]\n",
    "])"
   ]
  },
  {
   "cell_type": "code",
   "execution_count": 4,
   "metadata": {},
   "outputs": [
    {
     "data": {
      "text/plain": [
       "array([[  5.,   2.],\n",
       "       [ 50.,  29.],\n",
       "       [149., 110.]])"
      ]
     },
     "execution_count": 4,
     "metadata": {},
     "output_type": "execute_result"
    }
   ],
   "source": [
    "distance_matrix = helper_wrap.distance(xs,centroid)\n",
    "distance_matrix"
   ]
  },
  {
   "cell_type": "code",
   "execution_count": 5,
   "metadata": {},
   "outputs": [
    {
     "data": {
      "text/plain": [
       "141.0"
      ]
     },
     "execution_count": 5,
     "metadata": {},
     "output_type": "execute_result"
    }
   ],
   "source": [
    "helper_wrap.cost(distance_matrix)"
   ]
  },
  {
   "cell_type": "code",
   "execution_count": 7,
   "metadata": {},
   "outputs": [
    {
     "data": {
      "text/plain": [
       "array([0., 3.])"
      ]
     },
     "execution_count": 7,
     "metadata": {},
     "output_type": "execute_result"
    }
   ],
   "source": [
    "helper_wrap.centroid_weights(distance_matrix)"
   ]
  },
  {
   "cell_type": "markdown",
   "metadata": {},
   "source": [
    "### Scratch paper and previous work"
   ]
  },
  {
   "cell_type": "code",
   "execution_count": null,
   "metadata": {},
   "outputs": [],
   "source": [
    "%%file wrap.cpp\n",
    "<%\n",
    "cfg['compiler_args'] = ['-std=c++11']\n",
    "cfg['include_dirs'] = ['../notebooks/eigen3']\n",
    "setup_pybind11(cfg)\n",
    "%>\n",
    "\n",
    "#include <pybind11/pybind11.h>\n",
    "#include <pybind11/numpy.h>\n",
    "#include <pybind11/eigen.h>\n",
    "#include <pybind11/stl.h>\n",
    "#include <pybind11/cast.h>\n",
    "\n",
    "\n",
    "namespace py = pybind11;\n",
    "double min_dist(Eigen::VectorXd x, std::list<Eigen::VectorXd> C)\n",
    "{\n",
    "    double min_distance = std::numeric_limits<double>::infinity();\n",
    "    for (Eigen::VectorXd centroid: C)\n",
    "    {\n",
    "        double distance = (x-centroid).norm();\n",
    "        if (distance < min_distance)\n",
    "        {\n",
    "            min_distance = distance;\n",
    "        }\n",
    "    }\n",
    "    return min_distance;\n",
    "}\n",
    "\n",
    "PYBIND11_MODULE(wrap, m) {\n",
    "    m.doc() = \"pybind11 example plugin\";\n",
    "    m.def(\"min_dist\", &min_dist, \"A vectroized square function.\");\n",
    "}"
   ]
  },
  {
   "cell_type": "code",
   "execution_count": null,
   "metadata": {},
   "outputs": [],
   "source": [
    "import cppimport\n",
    "cppimport.force_rebuild()\n",
    "wrap = cppimport.imp(\"wrap\")"
   ]
  },
  {
   "cell_type": "code",
   "execution_count": null,
   "metadata": {},
   "outputs": [],
   "source": [
    "import numpy as np\n",
    "\n",
    "x = np.array([1,2,3])\n",
    "c1 = np.array([1,2,2.5])\n",
    "c2 = np.array([0,0,0])\n",
    "c3 = np.array([1,1,1])\n",
    "C = list([c1, c2, c3])\n",
    "\n",
    "\n",
    "\n",
    "wrap.min_dist(x,C)"
   ]
  },
  {
   "cell_type": "code",
   "execution_count": null,
   "metadata": {},
   "outputs": [],
   "source": []
  },
  {
   "cell_type": "code",
   "execution_count": null,
   "metadata": {},
   "outputs": [],
   "source": []
  },
  {
   "cell_type": "code",
   "execution_count": null,
   "metadata": {},
   "outputs": [],
   "source": [
    "%%file junk.cpp\n",
    "\n",
    "#include <iostream>\n",
    "#include <list>\n",
    "#include <Eigen/Dense>\n",
    "#include <cmath>\n",
    "#include <limits>\n",
    "\n",
    "double min_dist(Eigen::VectorXd x, std::list<Eigen::VectorXd> C)\n",
    "{\n",
    "    double min_distance = std::numeric_limits<double>::infinity();\n",
    "    \n",
    "    for (Eigen::VectorXd centroid: C)\n",
    "    {\n",
    "        double distance = (x-centroid).norm();\n",
    "        \n",
    "        if (distance < min_distance)\n",
    "        {\n",
    "            min_distance = distance;\n",
    "        }\n",
    "    }\n",
    "    \n",
    "    return min_distance;\n",
    "}\n",
    "\n",
    "int main() {\n",
    "    Eigen::VectorXd x(3);\n",
    "    x << 1, 2, 3;\n",
    "    \n",
    "    std::list<Eigen::VectorXd> C;\n",
    "    \n",
    "    for (int i=0; i<3; i++)\n",
    "    {\n",
    "        Eigen::VectorXd temp = Eigen::VectorXd::Random(3);\n",
    "        C.push_back(temp);\n",
    "    }\n",
    "    \n",
    "    double dist = min_dist(x, C);\n",
    "    \n",
    "    std::cout << dist << std::endl;\n",
    " \n",
    "    return 0;\n",
    "}"
   ]
  },
  {
   "cell_type": "code",
   "execution_count": null,
   "metadata": {},
   "outputs": [],
   "source": [
    "%%bash\n",
    "g++ junk.cpp -o junk.exe -std=c++14 -I/usr/include/eigen3"
   ]
  },
  {
   "cell_type": "code",
   "execution_count": null,
   "metadata": {},
   "outputs": [],
   "source": [
    "%%bash\n",
    "./junk.exe"
   ]
  },
  {
   "cell_type": "code",
   "execution_count": null,
   "metadata": {},
   "outputs": [],
   "source": [
    "double min_dist(Eigen::VectorXd x, std::list<Eigen::VectorXd> C)\n",
    "{\n",
    "    double min_distance = std::numeric_limits<double>::infinity();\n",
    "    \n",
    "    for (Eigen::VectorXd centroid: C)\n",
    "    {\n",
    "        double distance = (x-centroid).norm();\n",
    "        \n",
    "        if (distance < min_distance)\n",
    "        {\n",
    "            min_distance = distance;\n",
    "        }\n",
    "    }\n",
    "    \n",
    "    return min_distance;\n",
    "}"
   ]
  }
 ],
 "metadata": {
  "kernelspec": {
   "display_name": "Python 3",
   "language": "python",
   "name": "python3"
  },
  "language_info": {
   "codemirror_mode": {
    "name": "ipython",
    "version": 3
   },
   "file_extension": ".py",
   "mimetype": "text/x-python",
   "name": "python",
   "nbconvert_exporter": "python",
   "pygments_lexer": "ipython3",
   "version": "3.6.5"
  }
 },
 "nbformat": 4,
 "nbformat_minor": 2
}
