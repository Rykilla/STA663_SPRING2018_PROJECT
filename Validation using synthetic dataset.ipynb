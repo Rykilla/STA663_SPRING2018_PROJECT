{
 "cells": [
  {
   "cell_type": "markdown",
   "metadata": {},
   "source": [
    "### Generate a synthetic dataset"
   ]
  },
  {
   "cell_type": "code",
   "execution_count": 37,
   "metadata": {},
   "outputs": [],
   "source": [
    "%matplotlib inline"
   ]
  },
  {
   "cell_type": "code",
   "execution_count": 7,
   "metadata": {},
   "outputs": [],
   "source": [
    "import numpy as np\n",
    "import pandas as pd\n",
    "import seaborn as sns\n",
    "import matplotlib.pyplot as plt\n",
    "from sklearn.datasets import make_blobs"
   ]
  },
  {
   "cell_type": "code",
   "execution_count": 8,
   "metadata": {},
   "outputs": [],
   "source": [
    "def GaussMix(R, k, n=10000, d=15, seed=None):\n",
    "    \"\"\"Generates GaussMixture synthetic dataset\"\"\"\n",
    "    np.random.seed(seed)\n",
    "    mu = np.zeros(d)\n",
    "    sigma = np.diag(R*np.ones(d))\n",
    "    centers = np.random.multivariate_normal(mean=mu, cov=sigma, size=k)\n",
    "    \n",
    "    X,y = make_blobs(n_samples=n, n_features=d, centers=centers, random_state=seed)\n",
    "    return X,y"
   ]
  },
  {
   "cell_type": "markdown",
   "metadata": {},
   "source": [
    "### k-means++"
   ]
  },
  {
   "cell_type": "markdown",
   "metadata": {},
   "source": [
    "#### helper functions"
   ]
  },
  {
   "cell_type": "code",
   "execution_count": 18,
   "metadata": {},
   "outputs": [],
   "source": [
    "def distance(xs, centroid):\n",
    "    \"\"\"Computes matrix of squared distance from each point to each centroid.\n",
    "    \n",
    "    Parameters:\n",
    "    -----------\n",
    "    xs : ndarray of n points in d dimensional Euclidean space (nxd)\n",
    "    centroid: ndarray of k centroids in d dimensional Euclidean space (kxd)\n",
    "    \n",
    "    Returns:\n",
    "    --------\n",
    "    distance: matrix of squared distances (nxk)\n",
    "    \"\"\"\n",
    "\n",
    "    distance = np.sum((xs[:,None,:] - centroid)**2, axis=-1)\n",
    "    return distance"
   ]
  },
  {
   "cell_type": "code",
   "execution_count": 19,
   "metadata": {},
   "outputs": [],
   "source": [
    "def cost(xs, centroid):\n",
    "    \"\"\"Computes the cost of a set of points with respect to a collection of centroids\n",
    "    \n",
    "    Parameters:\n",
    "    -----------\n",
    "    xs : ndarray of n points in d dimensional Euclidean space (nxd)\n",
    "    centroid: ndarray of k centroids in d dimensional Euclidean space (kxd)\n",
    "    \n",
    "    Returns:\n",
    "    --------\n",
    "    cost: cost with respect to centroids\n",
    "    \"\"\"\n",
    "    #calculate distance to the nearest centroid for each point\n",
    "    min_dist = np.min(distance(xs, centroid), axis = 1)\n",
    "    \n",
    "    #compute cost\n",
    "    cost = np.sum(min_dist)\n",
    "    return cost"
   ]
  },
  {
   "cell_type": "code",
   "execution_count": 20,
   "metadata": {},
   "outputs": [],
   "source": [
    "def centroid_weights(d, centroid):\n",
    "    \"\"\"Computes weights as defined in step 7 of the k-means|| algorithm\n",
    "        \n",
    "    Parameters:\n",
    "    -----------\n",
    "    d : matrix of squared distances (nxk); likely returned from distance() function\n",
    "    centroid: ndarray of k centroids in d dimensional Euclidean space (kxd)\n",
    "    \n",
    "    Returns:\n",
    "    --------\n",
    "    w_x: ndarray of weights applied to centroids (kx1)\n",
    "    \"\"\"\n",
    "    #identify closest centroid to each point\n",
    "    c_close = np.zeros(d.shape)\n",
    "    c_close[np.range(d.shape[0]), np.argmin(d, axis = 1)] = 1\n",
    "    \n",
    "    #compute the weights\n",
    "    w_x = np.sum(c_close, axis = 0)\n",
    "    return w_x"
   ]
  },
  {
   "cell_type": "markdown",
   "metadata": {},
   "source": [
    "#### k-means++ initialization algorithm"
   ]
  },
  {
   "cell_type": "code",
   "execution_count": 21,
   "metadata": {},
   "outputs": [],
   "source": [
    "def k_means_pp(xs, k, seed=None):\n",
    "    \"\"\"\n",
    "    Implements the K_means++ Initialization algorithm\n",
    "    \n",
    "    Parameters:\n",
    "    -----------\n",
    "    xs: input dataset\n",
    "    k: the number of output clusters\n",
    "    seed: an optional random seed\n",
    "    \n",
    "    Returns:\n",
    "    --------\n",
    "    C: the reclustered k centroids used to initialize the k-means algorithm\n",
    "    \"\"\"\n",
    "    #initialization\n",
    "    np.random.seed(seed)\n",
    "    C = xs[np.random.choice(xs.shape[0],1),:]\n",
    "    loop = 0\n",
    "    \n",
    "    while len(C)<k:\n",
    "        \n",
    "        if (loop % 10 == 0):\n",
    "            print(\"The current loop is:\", loop)\n",
    "        \n",
    "        dist = distance(xs,C)\n",
    "        cst = cost(xs,C)\n",
    "        \n",
    "        probs_x = np.min(dist, axis = 1)/cst\n",
    "        C_new = xs[np.random.choice(xs.shape[0],1,p=probs_x),:]\n",
    "        \n",
    "        C = np.vstack((C,C_new))\n",
    "        \n",
    "        loop += 1\n",
    "        \n",
    "    return C"
   ]
  },
  {
   "cell_type": "markdown",
   "metadata": {},
   "source": [
    "#### k-means algorithm"
   ]
  },
  {
   "cell_type": "code",
   "execution_count": 83,
   "metadata": {},
   "outputs": [],
   "source": [
    "def k_means(X, k, centroids):\n",
    "    \"\"\"\n",
    "        This function will separate X into k clusters using the classic k-means\n",
    "        algorithm.\n",
    "    \"\"\"\n",
    "    ## parameters\n",
    "    max_iter = 10000\n",
    "    step = 0\n",
    "    #n, p = X.shape\n",
    "    \n",
    "    ## run the algorithm\n",
    "    while step < max_iter:\n",
    "        ### sort the data in terms of clusters\n",
    "        dist = distance(X, centroids)\n",
    "        cluster_indices = np.argmin(dist, axis=1)\n",
    "        \n",
    "        ### update centroids\n",
    "        update_centroids = np.zeros(centroids.shape)\n",
    "        for i in range(k):\n",
    "            update_centroids[i,:] = np.mean(X[cluster_indices==i,:], axis=0)\n",
    "        \n",
    "        ### check conditions\n",
    "        if np.array_equal(update_centroids, centroids):\n",
    "            break\n",
    "        else:\n",
    "            centroids = update_centroids\n",
    "            \n",
    "            if (step % 5 == 0):\n",
    "                print(\"We are currently at {} step\".format(step))\n",
    "            \n",
    "            step += 1\n",
    "    \n",
    "    total_dist = distance(X, centroids)\n",
    "    total_cost = cost(X, centroids)\n",
    "            \n",
    "    return {\"Centroids\": centroids,\n",
    "            \"Cluster Indices\": cluster_indices,\n",
    "            \"Number of Iterations\": step,\n",
    "            \"Total Cost\": total_cost}"
   ]
  },
  {
   "cell_type": "markdown",
   "metadata": {},
   "source": [
    "#### generate synthetic dataset"
   ]
  },
  {
   "cell_type": "code",
   "execution_count": 84,
   "metadata": {},
   "outputs": [],
   "source": [
    "synthetic_data, synthetic_data_true_labels = GaussMix(R=10, k=50, n=10000, d=15, seed=2018)"
   ]
  },
  {
   "cell_type": "code",
   "execution_count": 76,
   "metadata": {},
   "outputs": [
    {
     "data": {
      "text/plain": [
       "array([[-1.86138968, -0.23923958, -0.41357835, ..., -3.68704194,\n",
       "        -2.97831231, -1.46541168],\n",
       "       [ 5.05002218, -4.23808721,  0.70508808, ...,  2.41356994,\n",
       "         5.28438716,  2.13176893],\n",
       "       [-5.0757495 , -1.49734056, -4.83912418, ..., -1.91355102,\n",
       "        -9.08379913, -0.66437582],\n",
       "       ...,\n",
       "       [-3.86208243, -4.1686748 , -2.33285155, ..., -2.09367202,\n",
       "        -1.4248969 , -0.43013637],\n",
       "       [ 4.00113826, -4.11981762, -1.8441766 , ..., -6.90744421,\n",
       "        -6.21712508,  1.91209808],\n",
       "       [ 0.0732189 , -2.13458364,  0.78276181, ..., -2.94964197,\n",
       "         0.2176415 ,  4.74044444]])"
      ]
     },
     "execution_count": 76,
     "metadata": {},
     "output_type": "execute_result"
    }
   ],
   "source": [
    "synthetic_data"
   ]
  },
  {
   "cell_type": "code",
   "execution_count": 77,
   "metadata": {},
   "outputs": [
    {
     "data": {
      "text/plain": [
       "array([33, 24, 11, ..., 18,  1, 32])"
      ]
     },
     "execution_count": 77,
     "metadata": {},
     "output_type": "execute_result"
    }
   ],
   "source": [
    "synthetic_data_true_labels"
   ]
  },
  {
   "cell_type": "code",
   "execution_count": 85,
   "metadata": {},
   "outputs": [
    {
     "name": "stdout",
     "output_type": "stream",
     "text": [
      "The current loop is: 0\n",
      "The current loop is: 10\n",
      "The current loop is: 20\n",
      "The current loop is: 30\n",
      "The current loop is: 40\n",
      "We are currently at 0 step\n",
      "We are currently at 5 step\n",
      "We are currently at 10 step\n",
      "We are currently at 15 step\n",
      "We are currently at 20 step\n",
      "We are currently at 25 step\n",
      "CPU times: user 3.5 s, sys: 1.1 s, total: 4.6 s\n",
      "Wall time: 4.62 s\n"
     ]
    }
   ],
   "source": [
    "%%time\n",
    "\n",
    "initial_centroids_pp = k_means_pp(synthetic_data, k=50, seed=2018)\n",
    "k_means_output = k_means(synthetic_data, k=50, centroids=initial_centroids_pp)"
   ]
  },
  {
   "cell_type": "code",
   "execution_count": 86,
   "metadata": {},
   "outputs": [],
   "source": [
    "synthetic_data_predicted_labels = k_means_output[\"Cluster Indices\"]"
   ]
  },
  {
   "cell_type": "markdown",
   "metadata": {},
   "source": [
    "#### Evaluation of clustering performance using sklearn package"
   ]
  },
  {
   "cell_type": "code",
   "execution_count": 87,
   "metadata": {},
   "outputs": [
    {
     "data": {
      "text/plain": [
       "0.904545447528751"
      ]
     },
     "execution_count": 87,
     "metadata": {},
     "output_type": "execute_result"
    }
   ],
   "source": [
    "from sklearn import metrics\n",
    "metrics.adjusted_rand_score(synthetic_data_true_labels, synthetic_data_predicted_labels)"
   ]
  },
  {
   "cell_type": "markdown",
   "metadata": {},
   "source": [
    "#### Evaluation of clustering performance using cost function"
   ]
  },
  {
   "cell_type": "code",
   "execution_count": 88,
   "metadata": {},
   "outputs": [
    {
     "data": {
      "text/plain": [
       "193819.89598231384"
      ]
     },
     "execution_count": 88,
     "metadata": {},
     "output_type": "execute_result"
    }
   ],
   "source": [
    "k_means_output[\"Total Cost\"]"
   ]
  },
  {
   "cell_type": "markdown",
   "metadata": {},
   "source": [
    "### Reproduce the paper result using only k-means++"
   ]
  },
  {
   "cell_type": "markdown",
   "metadata": {},
   "source": [
    "#### R=1, Seed=23 and Final=14 (scaled down by $10^4$)"
   ]
  },
  {
   "cell_type": "code",
   "execution_count": 89,
   "metadata": {},
   "outputs": [],
   "source": [
    "synthetic_data, synthetic_data_true_labels = GaussMix(R=1, k=50, n=10000, d=15, seed=23)"
   ]
  },
  {
   "cell_type": "code",
   "execution_count": 90,
   "metadata": {},
   "outputs": [
    {
     "name": "stdout",
     "output_type": "stream",
     "text": [
      "The current loop is: 0\n",
      "The current loop is: 10\n",
      "The current loop is: 20\n",
      "The current loop is: 30\n",
      "The current loop is: 40\n",
      "We are currently at 0 step\n",
      "We are currently at 5 step\n",
      "We are currently at 10 step\n",
      "We are currently at 15 step\n",
      "We are currently at 20 step\n",
      "We are currently at 25 step\n",
      "We are currently at 30 step\n",
      "We are currently at 35 step\n",
      "CPU times: user 4.18 s, sys: 1.05 s, total: 5.24 s\n",
      "Wall time: 5.25 s\n"
     ]
    }
   ],
   "source": [
    "%%time\n",
    "\n",
    "initial_centroids_pp = k_means_pp(synthetic_data, k=50, seed=23)\n",
    "k_means_output = k_means(synthetic_data, k=50, centroids=initial_centroids_pp)"
   ]
  },
  {
   "cell_type": "code",
   "execution_count": 91,
   "metadata": {},
   "outputs": [
    {
     "data": {
      "text/plain": [
       "142718.2786790511"
      ]
     },
     "execution_count": 91,
     "metadata": {},
     "output_type": "execute_result"
    }
   ],
   "source": [
    "k_means_output[\"Total Cost\"]"
   ]
  },
  {
   "cell_type": "markdown",
   "metadata": {},
   "source": [
    "#### R=10, Seed=62 and Final=31 (scaled down by $10^4$)"
   ]
  },
  {
   "cell_type": "code",
   "execution_count": 92,
   "metadata": {},
   "outputs": [],
   "source": [
    "synthetic_data, synthetic_data_true_labels = GaussMix(R=10, k=50, n=10000, d=15, seed=62)"
   ]
  },
  {
   "cell_type": "code",
   "execution_count": 95,
   "metadata": {},
   "outputs": [
    {
     "name": "stdout",
     "output_type": "stream",
     "text": [
      "The current loop is: 0\n",
      "The current loop is: 10\n",
      "The current loop is: 20\n",
      "The current loop is: 30\n",
      "The current loop is: 40\n",
      "We are currently at 0 step\n",
      "We are currently at 5 step\n",
      "We are currently at 10 step\n",
      "CPU times: user 2.82 s, sys: 784 ms, total: 3.6 s\n",
      "Wall time: 3.6 s\n"
     ]
    }
   ],
   "source": [
    "%%time\n",
    "\n",
    "initial_centroids_pp = k_means_pp(synthetic_data, k=50, seed=62)\n",
    "k_means_output = k_means(synthetic_data, k=50, centroids=initial_centroids_pp)"
   ]
  },
  {
   "cell_type": "code",
   "execution_count": 96,
   "metadata": {},
   "outputs": [
    {
     "data": {
      "text/plain": [
       "185193.07153342268"
      ]
     },
     "execution_count": 96,
     "metadata": {},
     "output_type": "execute_result"
    }
   ],
   "source": [
    "k_means_output[\"Total Cost\"]"
   ]
  },
  {
   "cell_type": "markdown",
   "metadata": {},
   "source": [
    "#### R=100, Seed=30 and Final=15 (scaled down by $10^4$)"
   ]
  },
  {
   "cell_type": "code",
   "execution_count": 100,
   "metadata": {},
   "outputs": [],
   "source": [
    "synthetic_data, synthetic_data_true_labels = GaussMix(R=100, k=50, n=10000, d=15, seed=30)"
   ]
  },
  {
   "cell_type": "code",
   "execution_count": 101,
   "metadata": {},
   "outputs": [
    {
     "name": "stdout",
     "output_type": "stream",
     "text": [
      "The current loop is: 0\n",
      "The current loop is: 10\n",
      "The current loop is: 20\n",
      "The current loop is: 30\n",
      "The current loop is: 40\n",
      "We are currently at 0 step\n",
      "We are currently at 5 step\n",
      "CPU times: user 2.56 s, sys: 680 ms, total: 3.24 s\n",
      "Wall time: 3.24 s\n"
     ]
    }
   ],
   "source": [
    "%%time\n",
    "\n",
    "initial_centroids_pp = k_means_pp(synthetic_data, k=50, seed=30)\n",
    "k_means_output = k_means(synthetic_data, k=50, centroids=initial_centroids_pp)"
   ]
  },
  {
   "cell_type": "code",
   "execution_count": 102,
   "metadata": {},
   "outputs": [
    {
     "data": {
      "text/plain": [
       "324350.2169674193"
      ]
     },
     "execution_count": 102,
     "metadata": {},
     "output_type": "execute_result"
    }
   ],
   "source": [
    "k_means_output[\"Total Cost\"]"
   ]
  },
  {
   "cell_type": "code",
   "execution_count": null,
   "metadata": {},
   "outputs": [],
   "source": []
  }
 ],
 "metadata": {
  "kernelspec": {
   "display_name": "Python 3",
   "language": "python",
   "name": "python3"
  },
  "language_info": {
   "codemirror_mode": {
    "name": "ipython",
    "version": 3
   },
   "file_extension": ".py",
   "mimetype": "text/x-python",
   "name": "python",
   "nbconvert_exporter": "python",
   "pygments_lexer": "ipython3",
   "version": "3.6.5"
  }
 },
 "nbformat": 4,
 "nbformat_minor": 2
}
