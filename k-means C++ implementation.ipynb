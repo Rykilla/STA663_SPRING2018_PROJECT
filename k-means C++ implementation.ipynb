{
 "cells": [
  {
   "cell_type": "code",
   "execution_count": null,
   "metadata": {},
   "outputs": [],
   "source": []
  },
  {
   "cell_type": "code",
   "execution_count": null,
   "metadata": {},
   "outputs": [],
   "source": [
    "%%file trial_kpp.cpp\n",
    "\n",
    "#include <iostream>\n",
    "#include <Eigen/Dense>\n",
    "#include <cmath>\n",
    "\n",
    "Eigen::MatrixXd distance(Eigen::MatrixXd xs, Eigen::MatrixXd centroid, bool default_weight=true,\n",
    "                         Eigen::VectorXd weights=Eigen::VectorXd::Ones(1))\n",
    "{    \n",
    "    /*\n",
    "    Computes matrix of squared distance from each point to each centroid.\n",
    "    \n",
    "    Parameters:\n",
    "    -----------\n",
    "    xs : ndarray of n points in d dimensional Euclidean space (nxd)\n",
    "    centroid: ndarray of k centroids in d dimensional Euclidean space (kxd)\n",
    "    default_weight: a boolean value 0 and 1\n",
    "    weights: ndarray of n dimensions(n)\n",
    "    \n",
    "    Returns:\n",
    "    --------\n",
    "    distance: matrix of squared distances (nxk)\n",
    "    */\n",
    "    int n = xs.rows();\n",
    "    int k = centroid.rows();\n",
    "    int d = xs.cols();\n",
    "    Eigen::MatrixXd distance_matrix(n,k);\n",
    "    \n",
    "    if (default_weight==true)\n",
    "    {\n",
    "        weights = Eigen::VectorXd::Ones(n);\n",
    "    }\n",
    "    \n",
    "    for (int col_index=0; col_index<k; col_index++)\n",
    "    {\n",
    "        for (int row_index=0; row_index<n; row_index++)\n",
    "        {\n",
    "            double dist = (xs.row(row_index) - centroid.row(col_index)).norm();\n",
    "            distance_matrix(row_index,col_index) = weights(row_index) * std::pow(dist,2);\n",
    "        }\n",
    "    }\n",
    "    return distance_matrix;\n",
    "}\n",
    "\n",
    "double cost(Eigen::MatrixXd distance_matrix)\n",
    "{\n",
    "    /*\n",
    "    Computes the cost of a set of points with respect to a collection of centroids\n",
    "    \n",
    "    Parameters:\n",
    "    -----------\n",
    "    distance_matrix : matrix of squared distances (nxk); likely returned from distance() function\n",
    "    \n",
    "    Returns:\n",
    "    --------\n",
    "    cost: cost with respect to centroids\n",
    "    */\n",
    "    double cost;\n",
    "    cost = distance_matrix.rowwise().minCoeff().sum();\n",
    "    return cost;\n",
    "}\n",
    "\n",
    "Eigen::VectorXd centroid_weights(Eigen::MatrixXd distance_matrix)\n",
    "{\n",
    "    /*\n",
    "    Computes weights as defined in step 7 of the k-means|| algorithm\n",
    "        \n",
    "    Parameters:\n",
    "    -----------\n",
    "    distance_matrix : matrix of squared distances (nxk); likely returned from distance() function\n",
    "    centroid: ndarray of k centroids in d dimensional Euclidean space (kxd)\n",
    "    \n",
    "    Returns:\n",
    "    --------\n",
    "    w_x: ndarray of weights applied to centroids (kx1)\n",
    "    */\n",
    "    int n = distance_matrix.rows();\n",
    "    int k = distance_matrix.cols();\n",
    "    Eigen::MatrixXd weight_matrix(n,k);\n",
    "    weight_matrix.fill(0);\n",
    "    Eigen::VectorXd w_x(k);\n",
    "    for (int row_index=0; row_index<n; row_index++)\n",
    "    {\n",
    "        double row_minimum_value = distance_matrix.row(row_index).minCoeff();\n",
    "        for (int col_index=0; col_index<k; col_index++)\n",
    "        {\n",
    "            if (distance_matrix(row_index,col_index)==row_minimum_value)\n",
    "            {\n",
    "                weight_matrix(row_index,col_index)=1;\n",
    "            }\n",
    "        }\n",
    "    }\n",
    "    w_x = weight_matrix.colwise().sum();\n",
    "    return w_x;\n",
    "}\n",
    "\n",
    "Eigen::MatrixXd k_means_pp(Eigen::MatrixXd xs, int k, int sd, bool verbose, Eigen::VectorXd weights)\n",
    "{\n",
    "    /*\n",
    "    Implements the K_means++ Initialization algorithm\n",
    "    \n",
    "    Parameters:\n",
    "    -----------\n",
    "    xs: input dataset\n",
    "    k: the number of output clusters\n",
    "    seed: an optional random seed\n",
    "    \n",
    "    Returns:\n",
    "    --------\n",
    "    C: the reclustered k centroids used to initialize the k-means algorithm\n",
    "    */\n",
    "    std::default_random_engine seed{sd}; // setting a seed\n",
    "    \n",
    "    int n = xs.rows();\n",
    "    int d = xs.cols();\n",
    "    int starting_index = rand() % n;\n",
    "    Eigen::MatrixXd C = xs.row(starting_index);\n",
    "    int loop = 0;\n",
    "    \n",
    "    while (C.rows() < k)\n",
    "    {\n",
    "        if ((loop % 10 == 0) & (verbose == true))\n",
    "        {\n",
    "            std::cout << \"The current loop is: \" << loop << std::endl;\n",
    "        }\n",
    "        Eigen::MatrixXd dist = distance(xs, C, true, Eigen::VectorXd::Ones(1));\n",
    "        double cst = cost(dist);\n",
    "        Eigen::VectorXd probs_x = dist.rowwise().minCoeff() / cst;\n",
    "        std::default_random_engine generator;\n",
    "        std::uniform_real_distribution<double> distribution(0.0,1.0);\n",
    "        double random_number = distribution(generator);\n",
    "        double sum_prob = 0;\n",
    "        int index;\n",
    "        for (int i=0; i<probs_x.size(); i++)\n",
    "        {\n",
    "            sum_prob += probs_x(i);\n",
    "            if (sum_prob >= random_number)\n",
    "            {\n",
    "                index = i;\n",
    "                break;\n",
    "            }\n",
    "        }\n",
    "        Eigen::MatrixXd C_new = xs.row(index);\n",
    "        Eigen::MatrixXd temp(C.rows()+C_new.rows(), C.cols());\n",
    "        temp << C, C_new;        \n",
    "        C = temp;\n",
    "    }\n",
    "    \n",
    "    return C;\n",
    "}\n",
    "\n",
    "Eigen::MatrixXd k_means_parallel(Eigen::MatrixXd xs, int k, double l, int sd, int max_iter)\n",
    "{\n",
    "    std::default_random_engine seed{sd}; // setting a seed\n",
    "    \n",
    "    int n = xs.rows();\n",
    "    int d = xs.cols();\n",
    "    int starting_index = rand() % n;\n",
    "    int n_iter;\n",
    "    Eigen::MatrixXd centroid = xs.row(starting_index);\n",
    "    Eigen::MatrixXd dist = distance(xs, centroid);\n",
    "    double cost_init = cost(dist);\n",
    "    int order = std::ceil(std::log10(cost_init));\n",
    "    \n",
    "    if (max_iter == 0)\n",
    "    {\n",
    "        n_iter = order;\n",
    "    } else {\n",
    "        n_iter = max_iter;\n",
    "    }\n",
    "    \n",
    "    for (int i=0; i<n_iter; i++)\n",
    "    {\n",
    "        Eigen::MatrixXd distance_matrix = distance(xs, centroid);\n",
    "        double cst = cost(distance_matrix);\n",
    "        Eigen::VectorXd probs_x = l * distance_matrix.rowwise().minCoeff() / cst;\n",
    "        \n",
    "        for (int a=0; a<n; a++)\n",
    "        {\n",
    "            if (probs_x(a) > 1)\n",
    "            {\n",
    "                probs_x(a) = 1;\n",
    "            }\n",
    "            std::default_random_engine generator;\n",
    "            std::bernoulli_distribution distribution(probs_x(a));\n",
    "            if (distribution(generator))\n",
    "            {\n",
    "                Eigen::MatrixXd C_new = xs.row(a);\n",
    "                Eigen::MatrixXd temp(centroid.rows()+C_new.rows(), centroid.cols());\n",
    "                temp << centroid, C_new;        \n",
    "                centroid = temp;\n",
    "            }\n",
    "        }\n",
    "    }\n",
    "    \n",
    "    Eigen::MatrixXd new_dist = distance(xs, centroid);\n",
    "    Eigen::VectorXd w_x = centroid_weights(new_dist);\n",
    "    \n",
    "    Eigen::MatrixXd C;\n",
    "    return k_means_pp(centroid, k, sd, true, w_x);\n",
    "}\n",
    "\n",
    "Eigen::MatrixXd k_means(Eigen::MatrixXd X, int k, Eigen::MatrixXd &centroids)\n",
    "{\n",
    "    int max_iter = 10000;\n",
    "    int step = 0;\n",
    "    int n = X.rows();\n",
    "    \n",
    "    while (step < max_iter)\n",
    "    {\n",
    "        Eigen::MatrixXd distance_matrix = distance(X, centroids);\n",
    "        Eigen::MatrixXd weight_matrix(n,k);\n",
    "        weight_matrix.fill(0);\n",
    "        for (int row_index=0; row_index<n; row_index++)\n",
    "        {\n",
    "            double row_minimum_value = distance_matrix.row(row_index).minCoeff();\n",
    "            for (int col_index=0; col_index<k; col_index++)\n",
    "            {\n",
    "                if (distance_matrix(row_index,col_index)==row_minimum_value)\n",
    "                {\n",
    "                    weight_matrix(row_index,col_index)=1;\n",
    "                }\n",
    "            }\n",
    "        }\n",
    "        \n",
    "        Eigen::MatrixXd update_centroids(centroids.rows(), centroids.cols());\n",
    "        for (int c=0; c<k; c++)\n",
    "        {\n",
    "            int count = weight_matrix.col(c).sum();\n",
    "            update_centroids.row(c) = (X.transpose()*weight_matrix.col(c)).array() / count;\n",
    "        }\n",
    "        \n",
    "        if (centroids == update_centroids)\n",
    "        {\n",
    "            return centroids;\n",
    "        } else {\n",
    "            centroids = update_centroids;\n",
    "            step += 1;\n",
    "        }\n",
    "        \n",
    "    }\n",
    "    return centroids;\n",
    "}\n",
    "\n",
    "\n",
    "\n",
    "int main()\n",
    "{\n",
    "    Eigen::MatrixXd A1(3,3);\n",
    "    A1 << 5 ,7, 9,\n",
    "          4, 5, 6,\n",
    "          7, 8, 9.0;\n",
    "    Eigen::MatrixXd A2(4,4);\n",
    "    A2 << 5 ,7, 9, 2,\n",
    "          4, 5, 6, 3,\n",
    "          7, 8, 9.0, 1,\n",
    "          5, 1, 12, 5;\n",
    "    Eigen::VectorXd x1(3);\n",
    "    x1 << 10,13,25;    \n",
    "    Eigen::VectorXd x2(3);\n",
    "    x2 << 10,13,24;    \n",
    "    Eigen::MatrixXd A3(3,3);\n",
    "    A3 << 5 ,7, 9,\n",
    "          4, 5, 6,\n",
    "          7, 8, 9.0;\n",
    "    \n",
    "    //Eigen::MatrixXd xs, int k, int sd, bool verbose, Eigen::VectorXd weights\n",
    "    //Eigen::MatrixXd xs, int k, double l, int sd, int max_iter\n",
    "    std::cout << k_means_parallel(A2, 2, 2, 12312, 5) << std::endl;\n",
    "}"
   ]
  },
  {
   "cell_type": "code",
   "execution_count": null,
   "metadata": {},
   "outputs": [],
   "source": [
    "%%bash\n",
    "g++ trial_kpp.cpp -o trial_kpp.exe -std=c++14 -I/usr/include/eigen3"
   ]
  },
  {
   "cell_type": "code",
   "execution_count": null,
   "metadata": {},
   "outputs": [],
   "source": [
    "%%bash\n",
    "./trial_kpp.exe"
   ]
  },
  {
   "cell_type": "code",
   "execution_count": null,
   "metadata": {},
   "outputs": [],
   "source": []
  },
  {
   "cell_type": "code",
   "execution_count": null,
   "metadata": {},
   "outputs": [],
   "source": []
  },
  {
   "cell_type": "code",
   "execution_count": 1,
   "metadata": {},
   "outputs": [
    {
     "name": "stdout",
     "output_type": "stream",
     "text": [
      "Overwriting k_means_wrap.cpp\n"
     ]
    }
   ],
   "source": [
    "%%file k_means_wrap.cpp\n",
    "<%\n",
    "cfg['compiler_args'] = ['-std=c++11']\n",
    "cfg['include_dirs'] = ['../notebooks/eigen3']\n",
    "setup_pybind11(cfg)\n",
    "%>\n",
    "\n",
    "#include <pybind11/pybind11.h>\n",
    "#include <pybind11/numpy.h>\n",
    "#include <pybind11/eigen.h>\n",
    "#include <pybind11/stl.h>\n",
    "#include <pybind11/cast.h>\n",
    "\n",
    "Eigen::MatrixXd distance(Eigen::MatrixXd xs, Eigen::MatrixXd centroid, bool default_weight=true,\n",
    "                         Eigen::VectorXd weights=Eigen::VectorXd::Ones(1))\n",
    "{    \n",
    "    /*\n",
    "    Computes matrix of squared distance from each point to each centroid.\n",
    "    \n",
    "    Parameters:\n",
    "    -----------\n",
    "    xs : ndarray of n points in d dimensional Euclidean space (nxd)\n",
    "    centroid: ndarray of k centroids in d dimensional Euclidean space (kxd)\n",
    "    default_weight: a boolean value 0 and 1\n",
    "    weights: ndarray of n dimensions(n)\n",
    "    \n",
    "    Returns:\n",
    "    --------\n",
    "    distance: matrix of squared distances (nxk)\n",
    "    */\n",
    "    int n = xs.rows();\n",
    "    int k = centroid.rows();\n",
    "    int d = xs.cols();\n",
    "    Eigen::MatrixXd distance_matrix(n,k);\n",
    "    \n",
    "    if (default_weight==true)\n",
    "    {\n",
    "        weights = Eigen::VectorXd::Ones(n);\n",
    "    }\n",
    "    \n",
    "    for (int col_index=0; col_index<k; col_index++)\n",
    "    {\n",
    "        for (int row_index=0; row_index<n; row_index++)\n",
    "        {\n",
    "            double dist = (xs.row(row_index) - centroid.row(col_index)).norm();\n",
    "            distance_matrix(row_index,col_index) = weights(row_index) * std::pow(dist,2);\n",
    "        }\n",
    "    }\n",
    "    return distance_matrix;\n",
    "}\n",
    "\n",
    "double cost(Eigen::MatrixXd distance_matrix)\n",
    "{\n",
    "    /*\n",
    "    Computes the cost of a set of points with respect to a collection of centroids\n",
    "    \n",
    "    Parameters:\n",
    "    -----------\n",
    "    distance_matrix : matrix of squared distances (nxk); likely returned from distance() function\n",
    "    \n",
    "    Returns:\n",
    "    --------\n",
    "    cost: cost with respect to centroids\n",
    "    */\n",
    "    double cost;\n",
    "    cost = distance_matrix.rowwise().minCoeff().sum();\n",
    "    return cost;\n",
    "}\n",
    "\n",
    "Eigen::VectorXd centroid_weights(Eigen::MatrixXd distance_matrix)\n",
    "{\n",
    "    /*\n",
    "    Computes weights as defined in step 7 of the k-means|| algorithm\n",
    "        \n",
    "    Parameters:\n",
    "    -----------\n",
    "    distance_matrix : matrix of squared distances (nxk); likely returned from distance() function\n",
    "    centroid: ndarray of k centroids in d dimensional Euclidean space (kxd)\n",
    "    \n",
    "    Returns:\n",
    "    --------\n",
    "    w_x: ndarray of weights applied to centroids (kx1)\n",
    "    */\n",
    "    int n = distance_matrix.rows();\n",
    "    int k = distance_matrix.cols();\n",
    "    Eigen::MatrixXd weight_matrix(n,k);\n",
    "    weight_matrix.fill(0);\n",
    "    Eigen::VectorXd w_x(k);\n",
    "    for (int row_index=0; row_index<n; row_index++)\n",
    "    {\n",
    "        double row_minimum_value = distance_matrix.row(row_index).minCoeff();\n",
    "        for (int col_index=0; col_index<k; col_index++)\n",
    "        {\n",
    "            if (distance_matrix(row_index,col_index)==row_minimum_value)\n",
    "            {\n",
    "                weight_matrix(row_index,col_index)=1;\n",
    "            }\n",
    "        }\n",
    "    }\n",
    "    w_x = weight_matrix.colwise().sum();\n",
    "    return w_x;\n",
    "}\n",
    "\n",
    "Eigen::MatrixXd k_means_pp(Eigen::MatrixXd xs, int k, int sd, bool verbose, Eigen::VectorXd weights)\n",
    "{\n",
    "    /*\n",
    "    Implements the K_means++ Initialization algorithm\n",
    "    \n",
    "    Parameters:\n",
    "    -----------\n",
    "    xs: input dataset\n",
    "    k: the number of output clusters\n",
    "    seed: an optional random seed\n",
    "    \n",
    "    Returns:\n",
    "    --------\n",
    "    C: the reclustered k centroids used to initialize the k-means algorithm\n",
    "    */\n",
    "    std::default_random_engine seed{sd}; // setting a seed\n",
    "    \n",
    "    int n = xs.rows();\n",
    "    int d = xs.cols();\n",
    "    int starting_index = rand() % n;\n",
    "    Eigen::MatrixXd C = xs.row(starting_index);\n",
    "    int loop = 0;\n",
    "    \n",
    "    while (C.rows() < k)\n",
    "    {\n",
    "        if ((loop % 10 == 0) & (verbose == true))\n",
    "        {\n",
    "            std::cout << \"The current loop is: \" << loop << std::endl;\n",
    "        }\n",
    "        Eigen::MatrixXd dist = distance(xs, C, true, Eigen::VectorXd::Ones(1));\n",
    "        double cst = cost(dist);\n",
    "        Eigen::VectorXd probs_x = dist.rowwise().minCoeff() / cst;\n",
    "        std::default_random_engine generator;\n",
    "        std::uniform_real_distribution<double> distribution(0.0,1.0);\n",
    "        double random_number = distribution(generator);\n",
    "        double sum_prob = 0;\n",
    "        int index;\n",
    "        for (int i=0; i<probs_x.size(); i++)\n",
    "        {\n",
    "            sum_prob += probs_x(i);\n",
    "            if (sum_prob >= random_number)\n",
    "            {\n",
    "                index = i;\n",
    "                break;\n",
    "            }\n",
    "        }\n",
    "        Eigen::MatrixXd C_new = xs.row(index);\n",
    "        Eigen::MatrixXd temp(C.rows()+C_new.rows(), C.cols());\n",
    "        temp << C, C_new;        \n",
    "        C = temp;\n",
    "    }\n",
    "    \n",
    "    return C;\n",
    "}\n",
    "\n",
    "Eigen::MatrixXd k_means_parallel(Eigen::MatrixXd xs, int k, double l, int sd, int max_iter)\n",
    "{\n",
    "    /*\n",
    "    Implements the K_means || algorithm\n",
    "    \n",
    "    Parameters:\n",
    "    -----------\n",
    "    xs : ndarray of n points in d dimensional Euclidean space (nxd)\n",
    "    k: the number of output clusters\n",
    "    l: the oversampling factor; the number of centroids to sample at each iteration\n",
    "    seed: an optional random seed\n",
    "    max_iter: an optional argument to seet the number of iterations\n",
    "    \n",
    "    Returns:\n",
    "    --------\n",
    "    C: the reclustered k centroids used to initialize the k-means algorithm\n",
    "    */\n",
    "    std::default_random_engine seed{sd}; // setting a seed\n",
    "    \n",
    "    int n = xs.rows();\n",
    "    int d = xs.cols();\n",
    "    int starting_index = rand() % n;\n",
    "    int n_iter;\n",
    "    Eigen::MatrixXd centroid = xs.row(starting_index);\n",
    "    Eigen::MatrixXd dist = distance(xs, centroid);\n",
    "    double cost_init = cost(dist);\n",
    "    int order = std::ceil(std::log10(cost_init));\n",
    "    \n",
    "    if (max_iter == 0)\n",
    "    {\n",
    "        n_iter = order;\n",
    "    } else {\n",
    "        n_iter = max_iter;\n",
    "    }\n",
    "    \n",
    "    for (int i=0; i<n_iter; i++)\n",
    "    {\n",
    "        Eigen::MatrixXd distance_matrix = distance(xs, centroid);\n",
    "        double cst = cost(distance_matrix);\n",
    "        Eigen::VectorXd probs_x = l * distance_matrix.rowwise().minCoeff() / cst;\n",
    "        \n",
    "        for (int a=0; a<n; a++)\n",
    "        {\n",
    "            if (probs_x(a) > 1)\n",
    "            {\n",
    "                probs_x(a) = 1;\n",
    "            }\n",
    "            std::default_random_engine generator;\n",
    "            std::bernoulli_distribution distribution(probs_x(a));\n",
    "            if (distribution(generator))\n",
    "            {\n",
    "                Eigen::MatrixXd C_new = xs.row(a);\n",
    "                Eigen::MatrixXd temp(centroid.rows()+C_new.rows(), centroid.cols());\n",
    "                temp << centroid, C_new;        \n",
    "                centroid = temp;\n",
    "            }\n",
    "        }\n",
    "    }\n",
    "    \n",
    "    Eigen::MatrixXd new_dist = distance(xs, centroid);\n",
    "    Eigen::VectorXd w_x = centroid_weights(new_dist);\n",
    "    \n",
    "    return k_means_pp(centroid, k, sd, true, w_x);\n",
    "}\n",
    "\n",
    "Eigen::MatrixXd k_means(Eigen::MatrixXd X, int k, Eigen::MatrixXd &centroids)\n",
    "{\n",
    "    int max_iter = 10000;\n",
    "    int step = 0;\n",
    "    int n = X.rows();\n",
    "    \n",
    "    while (step < max_iter)\n",
    "    {\n",
    "        Eigen::MatrixXd distance_matrix = distance(X, centroids);\n",
    "        Eigen::MatrixXd weight_matrix(n,k);\n",
    "        weight_matrix.fill(0);\n",
    "        for (int row_index=0; row_index<n; row_index++)\n",
    "        {\n",
    "            double row_minimum_value = distance_matrix.row(row_index).minCoeff();\n",
    "            for (int col_index=0; col_index<k; col_index++)\n",
    "            {\n",
    "                if (distance_matrix(row_index,col_index)==row_minimum_value)\n",
    "                {\n",
    "                    weight_matrix(row_index,col_index)=1;\n",
    "                }\n",
    "            }\n",
    "        }\n",
    "        \n",
    "        Eigen::MatrixXd update_centroids(centroids.rows(), centroids.cols());\n",
    "        for (int c=0; c<k; c++)\n",
    "        {\n",
    "            int count = weight_matrix.col(c).sum();\n",
    "            update_centroids.row(c) = (X.transpose()*weight_matrix.col(c)).array() / count;\n",
    "        }\n",
    "        \n",
    "        if (centroids == update_centroids)\n",
    "        {\n",
    "            return centroids;\n",
    "        } else {\n",
    "            centroids = update_centroids;\n",
    "            step += 1;\n",
    "        }\n",
    "        \n",
    "    }\n",
    "    return centroids;\n",
    "}\n",
    "\n",
    "PYBIND11_MODULE(k_means_wrap, m) {\n",
    "    m.doc() = \"helpers functions for k-means|| initialization\";\n",
    "    m.def(\"distance\", &distance, \"distance matrix function\");\n",
    "    m.def(\"cost\", &cost, \"cost function\");\n",
    "    m.def(\"centroid_weights\", &centroid_weights, \"distance matrix function\");\n",
    "    m.def(\"k_means_pp\", &k_means_pp, \"k-means++ algorithm\");\n",
    "    m.def(\"k_means_parallel\", &k_means_parallel, \"k-means|| algorithm\");\n",
    "    m.def(\"k_means\", &k_means, \"k-means algorithm\");\n",
    "}"
   ]
  },
  {
   "cell_type": "code",
   "execution_count": 2,
   "metadata": {},
   "outputs": [],
   "source": [
    "import cppimport\n",
    "cppimport.force_rebuild()\n",
    "k_means_wrap = cppimport.imp(\"k_means_wrap\")"
   ]
  },
  {
   "cell_type": "markdown",
   "metadata": {},
   "source": [
    "### Testing"
   ]
  },
  {
   "cell_type": "code",
   "execution_count": 3,
   "metadata": {},
   "outputs": [],
   "source": [
    "from multiprocessing import Pool\n",
    "from functools import partial\n",
    "from collections import Counter\n",
    "import numpy as np\n",
    "import pandas as pd\n",
    "import seaborn as sns\n",
    "import matplotlib.pyplot as plt\n",
    "from sklearn.datasets import make_blobs"
   ]
  },
  {
   "cell_type": "code",
   "execution_count": 9,
   "metadata": {},
   "outputs": [],
   "source": [
    "def distance(xs, centroid, weights = np.array([1])):\n",
    "    \"\"\"Computes matrix of squared distance from each point to each centroid.\n",
    "    \n",
    "    Parameters:\n",
    "    -----------\n",
    "    xs : ndarray of n points in d dimensional Euclidean space (nxd)\n",
    "    centroid: ndarray of k centroids in d dimensional Euclidean space (kxd)\n",
    "    weights: an optional input of weights applied to each data point\n",
    "    \n",
    "    Returns:\n",
    "    --------\n",
    "    distance: matrix of squared distances (nxk)\n",
    "    \"\"\"\n",
    "    if weights.all() == 1:\n",
    "        weights = np.ones(xs.shape[0])\n",
    "\n",
    "    distance = weights[:,None]*np.sum((xs[:,None,:] - centroid)**2, axis=-1)\n",
    "    return distance\n",
    "\n",
    "def cost(d):\n",
    "    \"\"\"Computes the cost of a set of points with respect to a collection of centroids\n",
    "    \n",
    "    Parameters:\n",
    "    -----------\n",
    "    d : matrix of squared distances (nxk) returned from distance() function\n",
    "    \n",
    "    Returns:\n",
    "    --------\n",
    "    cost: cost with respect to centroids\n",
    "    \"\"\"\n",
    "    #calculate distance to the nearest centroid for each point\n",
    "    min_dist = np.min(d, axis = 1)\n",
    "    \n",
    "    #compute cost\n",
    "    cost = np.sum(min_dist)\n",
    "    return cost\n",
    "\n",
    "def centroid_weights(d):\n",
    "    \"\"\"Computes weights as defined in step 7 of the k-means|| algorithm\n",
    "        \n",
    "    Parameters:\n",
    "    -----------\n",
    "    d : matrix of squared distances (nxk) returned from distance() function\n",
    "    \n",
    "    Returns:\n",
    "    --------\n",
    "    w_x: ndarray of weights applied to centroids (kx1)\n",
    "    \"\"\"\n",
    "    #identify closest centroid to each point\n",
    "    c_close = np.zeros(d.shape)\n",
    "    c_close[np.arange(d.shape[0]), np.argmin(d, axis = 1)] = 1\n",
    "    \n",
    "    #compute the weights\n",
    "    w_x = np.sum(c_close, axis = 0)\n",
    "    return w_x"
   ]
  },
  {
   "cell_type": "code",
   "execution_count": 10,
   "metadata": {},
   "outputs": [],
   "source": [
    "def k_means_pp(xs, k, seed=None, verbose=False, weights = np.array([1])):\n",
    "    \"\"\"\n",
    "    Implements the K_means++ Initialization algorithm\n",
    "    \n",
    "    Parameters:\n",
    "    -----------\n",
    "    xs: input dataset\n",
    "    k: the number of output clusters\n",
    "    seed: an optional random seed\n",
    "    verbose: an optional argument to show progress of algorithm\n",
    "    weights: an optional input of weights applied to each data point \n",
    "    \n",
    "    Returns:\n",
    "    --------\n",
    "    C: the reclustered k centroids used to initialize the k-means algorithm\n",
    "    \"\"\"\n",
    "    #initialization\n",
    "    np.random.seed(seed)\n",
    "    C = xs[np.random.choice(xs.shape[0],1),:]\n",
    "    loop = 0\n",
    "    \n",
    "    while len(C)<k:\n",
    "        \n",
    "        if ((loop % 10 == 0)&(verbose == True)):\n",
    "            print(\"The current loop is:\", loop)\n",
    "        \n",
    "        dist = distance(xs,C, weights = weights)\n",
    "        cst = cost(dist)\n",
    "        \n",
    "        probs_x = np.min(dist, axis = 1)/cst\n",
    "        C_new = xs[np.random.choice(xs.shape[0],1,p=probs_x),:]\n",
    "        \n",
    "        C = np.vstack((C,C_new))\n",
    "        \n",
    "        loop += 1\n",
    "        \n",
    "    return C"
   ]
  },
  {
   "cell_type": "code",
   "execution_count": 11,
   "metadata": {},
   "outputs": [],
   "source": [
    "def K_Means_ll(xs, k, l, seed=None, max_iter=None):\n",
    "    \"\"\"Implements the K_means || algorithm\n",
    "    \n",
    "    Parameters:\n",
    "    -----------\n",
    "    xs : ndarray of n points in d dimensional Euclidean space (nxd)\n",
    "    k: the number of output clusters\n",
    "    l: the oversampling factor; the number of centroids to sample at each iteration\n",
    "    seed: an optional random seed\n",
    "    max_iter: an optional argument to seet the number of iterations\n",
    "    \n",
    "    Returns:\n",
    "    --------\n",
    "    C: the reclustered k centroids used to initialize the k-means algorithm\n",
    "    \"\"\"\n",
    "    \n",
    "    #initialization\n",
    "    np.random.seed(seed)\n",
    "    centroid = xs[np.random.choice(xs.shape[0],1),:]\n",
    "    cost_int = cost(distance(xs,centroid))\n",
    "    \n",
    "    order = np.log10(cost_int)\n",
    "    \n",
    "    if max_iter is not None:\n",
    "        n_iter = max_iter\n",
    "    else:\n",
    "        n_iter = np.round(order)\n",
    "    \n",
    "    for i in np.arange(n_iter):\n",
    "        dist = distance(xs,centroid)\n",
    "        cst = cost(dist)\n",
    "        \n",
    "        probs_x = l*np.min(dist, axis = 1)/cst\n",
    "        \n",
    "        if any(probs_x > 1):\n",
    "            probs_x[np.where(probs_x > 1)] = 1\n",
    "        \n",
    "        centroid_new = xs[np.random.binomial(1, p = probs_x) == 1,:]\n",
    "        \n",
    "        centroid = np.vstack((centroid,centroid_new))\n",
    "    \n",
    "    if centroid.shape[0] < k:\n",
    "        return print('Error: Number of centers selected before reclustering is less than k;',\n",
    "                    'adjust hyperparameters (k,l) or run for more iterations')\n",
    "    \n",
    "    dist = distance(xs,centroid)\n",
    "    w_x = centroid_weights(dist)\n",
    "    \n",
    "    #Implement k-means++ to recluster weighted points in C\n",
    "    C = k_means_pp(centroid,k,seed=seed,weights=w_x)\n",
    "\n",
    "    return C"
   ]
  },
  {
   "cell_type": "code",
   "execution_count": 20,
   "metadata": {},
   "outputs": [],
   "source": [
    "def k_means(X, k, centroids, verbose=False):\n",
    "    \"\"\"This function will separate X into k clusters\n",
    "    using the classic k-means algorithm.\n",
    "    \n",
    "    Parameters:\n",
    "    -----------\n",
    "    X : ndarray of n points in d dimensional Euclidean space (nxd)\n",
    "    k: the number of output clusters\n",
    "    centroids: ndarray of initial centroids (kxd)\n",
    "    verbose: an optional argument to show progress of algorithm\n",
    "\n",
    "    Returns:\n",
    "    --------\n",
    "    Centroids: k centers after clustering\n",
    "    Cluster_Indices: cluster classification for each data point\n",
    "    Number of Iterations: number of iterations until convergence\n",
    "    Total Cost: cost after convergence\n",
    "    \"\"\"\n",
    "    ## parameters\n",
    "    max_iter = 10000\n",
    "    step = 0\n",
    "    #n, p = X.shape\n",
    "    \n",
    "    ## run the algorithm\n",
    "    while step < max_iter:\n",
    "        ### sort the data in terms of clusters\n",
    "        dist = distance(X, centroids)\n",
    "        cluster_indices = np.argmin(dist, axis=1)\n",
    "        \n",
    "        ### update centroids\n",
    "        update_centroids = np.zeros(centroids.shape)\n",
    "        for i in range(k):\n",
    "            if np.sum(cluster_indices == i) == 0:\n",
    "                update_centroids[i,:] = centroids[i,:]\n",
    "            else:\n",
    "                update_centroids[i,:] = np.mean(X[cluster_indices==i,:], axis=0)\n",
    "        \n",
    "        ### check conditions\n",
    "        if np.array_equal(update_centroids, centroids):\n",
    "            break\n",
    "        else:\n",
    "            centroids = update_centroids\n",
    "            \n",
    "            if ((step % 5 == 0)&(verbose == True)):\n",
    "                print(\"We are currently at {} step\".format(step))\n",
    "            \n",
    "            step += 1\n",
    "    \n",
    "    total_dist = distance(X, centroids)\n",
    "    total_cost = cost(total_dist)\n",
    "            \n",
    "    return {\"Centroids\": centroids,\n",
    "            \"Cluster Indices\": cluster_indices,\n",
    "            \"Number of Iterations\": step,\n",
    "            \"Total Cost\": total_cost}"
   ]
  },
  {
   "cell_type": "code",
   "execution_count": 33,
   "metadata": {},
   "outputs": [],
   "source": [
    "def GaussMix(R, k, n=10000, d=15, seed=None):\n",
    "    \"\"\"Generates GaussMixture synthetic dataset\"\"\"\n",
    "    np.random.seed(seed)\n",
    "    mu = np.zeros(d)\n",
    "    sigma = np.diag(R*np.ones(d))\n",
    "    centers = np.random.multivariate_normal(mean=mu, cov=sigma, size=k)\n",
    "    \n",
    "    X,y = make_blobs(n_samples=n, n_features=d, centers=centers, random_state=seed)\n",
    "    return X,y"
   ]
  },
  {
   "cell_type": "markdown",
   "metadata": {},
   "source": [
    "### Testing on n=10000, d=15"
   ]
  },
  {
   "cell_type": "code",
   "execution_count": 45,
   "metadata": {},
   "outputs": [],
   "source": [
    "k=15\n",
    "GM = GaussMix(10,k,n=10000,seed=12345)\n",
    "df = pd.DataFrame(GM[0])\n",
    "y = GM[1]"
   ]
  },
  {
   "cell_type": "code",
   "execution_count": 46,
   "metadata": {},
   "outputs": [],
   "source": [
    "xs = GM[0] #data is from GaussMix dataset\n",
    "cent = xs[np.random.choice(xs.shape[0],5),:]"
   ]
  },
  {
   "cell_type": "code",
   "execution_count": 47,
   "metadata": {},
   "outputs": [
    {
     "name": "stdout",
     "output_type": "stream",
     "text": [
      "CPU times: user 32 ms, sys: 4 ms, total: 36 ms\n",
      "Wall time: 35.8 ms\n"
     ]
    }
   ],
   "source": [
    "%%time\n",
    "\n",
    "initial_centroids_pp_wrapped = k_means_wrap.k_means_pp(xs, 15, 12345, True, np.array([1]))"
   ]
  },
  {
   "cell_type": "code",
   "execution_count": 48,
   "metadata": {},
   "outputs": [
    {
     "name": "stdout",
     "output_type": "stream",
     "text": [
      "CPU times: user 108 ms, sys: 0 ns, total: 108 ms\n",
      "Wall time: 108 ms\n"
     ]
    }
   ],
   "source": [
    "%%time\n",
    "\n",
    "initial_centroids_pp = k_means_pp(xs, 15, 12345, False, np.array([1]))"
   ]
  },
  {
   "cell_type": "code",
   "execution_count": 49,
   "metadata": {},
   "outputs": [
    {
     "name": "stdout",
     "output_type": "stream",
     "text": [
      "CPU times: user 8 ms, sys: 4 ms, total: 12 ms\n",
      "Wall time: 9.45 ms\n"
     ]
    }
   ],
   "source": [
    "%%time\n",
    "\n",
    "initial_centroids_parallel_wrapped = k_means_wrap.k_means_parallel(xs, 15, 10, 12345, 5)"
   ]
  },
  {
   "cell_type": "code",
   "execution_count": 50,
   "metadata": {},
   "outputs": [
    {
     "name": "stdout",
     "output_type": "stream",
     "text": [
      "CPU times: user 168 ms, sys: 20 ms, total: 188 ms\n",
      "Wall time: 188 ms\n"
     ]
    }
   ],
   "source": [
    "%%time\n",
    "\n",
    "initial_centroids_parallel = K_Means_ll(xs, 15, 10, seed=12345, max_iter=5)"
   ]
  },
  {
   "cell_type": "code",
   "execution_count": 69,
   "metadata": {},
   "outputs": [
    {
     "name": "stdout",
     "output_type": "stream",
     "text": [
      "9.4 s ± 159 ms per loop (mean ± std. dev. of 7 runs, 1 loop each)\n"
     ]
    }
   ],
   "source": [
    "%%timeit\n",
    "\n",
    "output = k_means(xs, 15, initial_centroids_pp, verbose=False)"
   ]
  },
  {
   "cell_type": "code",
   "execution_count": 70,
   "metadata": {},
   "outputs": [
    {
     "name": "stdout",
     "output_type": "stream",
     "text": [
      "10.7 s ± 119 ms per loop (mean ± std. dev. of 7 runs, 1 loop each)\n"
     ]
    }
   ],
   "source": [
    "%%timeit\n",
    "\n",
    "output = k_means(xs, 15, initial_centroids_parallel, verbose=False)"
   ]
  },
  {
   "cell_type": "code",
   "execution_count": 71,
   "metadata": {},
   "outputs": [
    {
     "name": "stdout",
     "output_type": "stream",
     "text": [
      "643 ms ± 17.8 ms per loop (mean ± std. dev. of 7 runs, 1 loop each)\n"
     ]
    }
   ],
   "source": [
    "%%timeit\n",
    "\n",
    "output = k_means(xs, 15, initial_centroids_pp_wrapped, verbose=False)"
   ]
  },
  {
   "cell_type": "code",
   "execution_count": 72,
   "metadata": {},
   "outputs": [
    {
     "name": "stdout",
     "output_type": "stream",
     "text": [
      "1.57 s ± 18.6 ms per loop (mean ± std. dev. of 7 runs, 1 loop each)\n"
     ]
    }
   ],
   "source": [
    "%%timeit\n",
    "\n",
    "output = k_means(xs, 15, initial_centroids_parallel_wrapped, verbose=False)"
   ]
  },
  {
   "cell_type": "markdown",
   "metadata": {},
   "source": [
    "### Testing on n=50000, d=15"
   ]
  },
  {
   "cell_type": "code",
   "execution_count": 73,
   "metadata": {},
   "outputs": [],
   "source": [
    "k=15\n",
    "GM = GaussMix(10,k,n=50000,d=15,seed=12345)\n",
    "df = pd.DataFrame(GM[0])\n",
    "y = GM[1]"
   ]
  },
  {
   "cell_type": "code",
   "execution_count": 74,
   "metadata": {},
   "outputs": [],
   "source": [
    "xs = GM[0] #data is from GaussMix dataset\n",
    "cent = xs[np.random.choice(xs.shape[0],5),:]"
   ]
  },
  {
   "cell_type": "code",
   "execution_count": 75,
   "metadata": {},
   "outputs": [
    {
     "name": "stdout",
     "output_type": "stream",
     "text": [
      "CPU times: user 164 ms, sys: 8 ms, total: 172 ms\n",
      "Wall time: 173 ms\n"
     ]
    }
   ],
   "source": [
    "%%time\n",
    "\n",
    "initial_centroids_pp_wrapped = k_means_wrap.k_means_pp(xs, 15, 12345, True, np.array([1]))"
   ]
  },
  {
   "cell_type": "code",
   "execution_count": 76,
   "metadata": {},
   "outputs": [
    {
     "name": "stdout",
     "output_type": "stream",
     "text": [
      "CPU times: user 560 ms, sys: 104 ms, total: 664 ms\n",
      "Wall time: 664 ms\n"
     ]
    }
   ],
   "source": [
    "%%time\n",
    "\n",
    "initial_centroids_pp = k_means_pp(xs, 15, 12345, False, np.array([1]))"
   ]
  },
  {
   "cell_type": "code",
   "execution_count": 77,
   "metadata": {},
   "outputs": [
    {
     "name": "stdout",
     "output_type": "stream",
     "text": [
      "CPU times: user 24 ms, sys: 0 ns, total: 24 ms\n",
      "Wall time: 22.6 ms\n"
     ]
    }
   ],
   "source": [
    "%%time\n",
    "\n",
    "initial_centroids_parallel_wrapped = k_means_wrap.k_means_parallel(xs, 15, 10, 12345, 5)"
   ]
  },
  {
   "cell_type": "code",
   "execution_count": 78,
   "metadata": {},
   "outputs": [
    {
     "name": "stdout",
     "output_type": "stream",
     "text": [
      "CPU times: user 712 ms, sys: 184 ms, total: 896 ms\n",
      "Wall time: 898 ms\n"
     ]
    }
   ],
   "source": [
    "%%time\n",
    "\n",
    "initial_centroids_parallel = K_Means_ll(xs, 15, 10, seed=12345, max_iter=5)"
   ]
  },
  {
   "cell_type": "code",
   "execution_count": 79,
   "metadata": {},
   "outputs": [
    {
     "name": "stdout",
     "output_type": "stream",
     "text": [
      "2.82 s ± 67.3 ms per loop (mean ± std. dev. of 7 runs, 1 loop each)\n"
     ]
    }
   ],
   "source": [
    "%%timeit\n",
    "\n",
    "output = k_means(xs, 15, initial_centroids_pp, verbose=False)"
   ]
  },
  {
   "cell_type": "code",
   "execution_count": 80,
   "metadata": {},
   "outputs": [
    {
     "name": "stdout",
     "output_type": "stream",
     "text": [
      "6.15 s ± 96.4 ms per loop (mean ± std. dev. of 7 runs, 1 loop each)\n"
     ]
    }
   ],
   "source": [
    "%%timeit\n",
    "\n",
    "output = k_means(xs, 15, initial_centroids_parallel, verbose=False)"
   ]
  },
  {
   "cell_type": "code",
   "execution_count": 81,
   "metadata": {},
   "outputs": [
    {
     "name": "stdout",
     "output_type": "stream",
     "text": [
      "6.92 s ± 80 ms per loop (mean ± std. dev. of 7 runs, 1 loop each)\n"
     ]
    }
   ],
   "source": [
    "%%timeit\n",
    "\n",
    "output = k_means(xs, 15, initial_centroids_pp_wrapped, verbose=False)"
   ]
  },
  {
   "cell_type": "code",
   "execution_count": 82,
   "metadata": {},
   "outputs": [
    {
     "name": "stdout",
     "output_type": "stream",
     "text": [
      "1.89 s ± 43 ms per loop (mean ± std. dev. of 7 runs, 1 loop each)\n"
     ]
    }
   ],
   "source": [
    "%%timeit\n",
    "\n",
    "output = k_means(xs, 15, initial_centroids_parallel_wrapped, verbose=False)"
   ]
  },
  {
   "cell_type": "markdown",
   "metadata": {},
   "source": [
    "### Testing on n=50000,d=30"
   ]
  },
  {
   "cell_type": "code",
   "execution_count": 55,
   "metadata": {},
   "outputs": [],
   "source": [
    "k=15\n",
    "GM = GaussMix(10,k,n=50000,d=30,seed=12345)\n",
    "df = pd.DataFrame(GM[0])\n",
    "y = GM[1]"
   ]
  },
  {
   "cell_type": "code",
   "execution_count": 56,
   "metadata": {},
   "outputs": [],
   "source": [
    "xs = GM[0] #data is from GaussMix dataset\n",
    "cent = xs[np.random.choice(xs.shape[0],5),:]"
   ]
  },
  {
   "cell_type": "code",
   "execution_count": 57,
   "metadata": {},
   "outputs": [
    {
     "name": "stdout",
     "output_type": "stream",
     "text": [
      "CPU times: user 312 ms, sys: 8 ms, total: 320 ms\n",
      "Wall time: 327 ms\n"
     ]
    }
   ],
   "source": [
    "%%time\n",
    "\n",
    "initial_centroids_pp_wrapped = k_means_wrap.k_means_pp(xs, 15, 12345, True, np.array([1]))"
   ]
  },
  {
   "cell_type": "code",
   "execution_count": 58,
   "metadata": {},
   "outputs": [
    {
     "name": "stdout",
     "output_type": "stream",
     "text": [
      "CPU times: user 900 ms, sys: 252 ms, total: 1.15 s\n",
      "Wall time: 1.16 s\n"
     ]
    }
   ],
   "source": [
    "%%time\n",
    "\n",
    "initial_centroids_pp = k_means_pp(xs, 15, 12345, False, np.array([1]))"
   ]
  },
  {
   "cell_type": "code",
   "execution_count": 59,
   "metadata": {},
   "outputs": [
    {
     "name": "stdout",
     "output_type": "stream",
     "text": [
      "CPU times: user 52 ms, sys: 0 ns, total: 52 ms\n",
      "Wall time: 50.1 ms\n"
     ]
    }
   ],
   "source": [
    "%%time\n",
    "\n",
    "initial_centroids_parallel_wrapped = k_means_wrap.k_means_parallel(xs, 15, 10, 12345, 5)"
   ]
  },
  {
   "cell_type": "code",
   "execution_count": 60,
   "metadata": {},
   "outputs": [
    {
     "name": "stdout",
     "output_type": "stream",
     "text": [
      "CPU times: user 1.28 s, sys: 648 ms, total: 1.92 s\n",
      "Wall time: 1.93 s\n"
     ]
    }
   ],
   "source": [
    "%%time\n",
    "\n",
    "initial_centroids_parallel = K_Means_ll(xs, 15, 10, seed=12345, max_iter=5)"
   ]
  },
  {
   "cell_type": "code",
   "execution_count": 65,
   "metadata": {},
   "outputs": [
    {
     "name": "stdout",
     "output_type": "stream",
     "text": [
      "9.51 s ± 160 ms per loop (mean ± std. dev. of 7 runs, 1 loop each)\n"
     ]
    }
   ],
   "source": [
    "%%timeit\n",
    "\n",
    "output = k_means(xs, 15, initial_centroids_pp, verbose=False)"
   ]
  },
  {
   "cell_type": "code",
   "execution_count": 66,
   "metadata": {},
   "outputs": [
    {
     "name": "stdout",
     "output_type": "stream",
     "text": [
      "10.8 s ± 199 ms per loop (mean ± std. dev. of 7 runs, 1 loop each)\n"
     ]
    }
   ],
   "source": [
    "%%timeit\n",
    "\n",
    "output = k_means(xs, 15, initial_centroids_parallel, verbose=False)"
   ]
  },
  {
   "cell_type": "code",
   "execution_count": 67,
   "metadata": {},
   "outputs": [
    {
     "name": "stdout",
     "output_type": "stream",
     "text": [
      "682 ms ± 20.5 ms per loop (mean ± std. dev. of 7 runs, 1 loop each)\n"
     ]
    }
   ],
   "source": [
    "%%timeit\n",
    "\n",
    "output = k_means(xs, 15, initial_centroids_pp_wrapped, verbose=False)"
   ]
  },
  {
   "cell_type": "code",
   "execution_count": 68,
   "metadata": {},
   "outputs": [
    {
     "name": "stdout",
     "output_type": "stream",
     "text": [
      "1.61 s ± 40.6 ms per loop (mean ± std. dev. of 7 runs, 1 loop each)\n"
     ]
    }
   ],
   "source": [
    "%%timeit\n",
    "\n",
    "output = k_means(xs, 15, initial_centroids_parallel_wrapped, verbose=False)"
   ]
  }
 ],
 "metadata": {
  "kernelspec": {
   "display_name": "Python 3",
   "language": "python",
   "name": "python3"
  },
  "language_info": {
   "codemirror_mode": {
    "name": "ipython",
    "version": 3
   },
   "file_extension": ".py",
   "mimetype": "text/x-python",
   "name": "python",
   "nbconvert_exporter": "python",
   "pygments_lexer": "ipython3",
   "version": "3.6.5"
  }
 },
 "nbformat": 4,
 "nbformat_minor": 2
}
